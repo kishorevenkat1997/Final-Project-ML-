{
 "cells": [
  {
   "cell_type": "markdown",
   "id": "a43f10ea",
   "metadata": {},
   "source": [
    " "
   ]
  },
  {
   "cell_type": "markdown",
   "id": "bc647b08",
   "metadata": {},
   "source": [
    "## Importing Libraries"
   ]
  },
  {
   "cell_type": "code",
   "execution_count": 104,
   "id": "3563e67f",
   "metadata": {},
   "outputs": [],
   "source": [
    "import numpy as np\n",
    "import pandas as pd\n",
    "import numpy as np\n",
    "from matplotlib import pyplot as plt"
   ]
  },
  {
   "cell_type": "code",
   "execution_count": 105,
   "id": "ddf9c7db",
   "metadata": {},
   "outputs": [
    {
     "data": {
      "text/plain": [
       "(45211, 11)"
      ]
     },
     "execution_count": 105,
     "metadata": {},
     "output_type": "execute_result"
    }
   ],
   "source": [
    "df = pd.read_csv('Customer Conversion Prediction.csv')\n",
    "df.head()\n",
    "df.shape"
   ]
  },
  {
   "cell_type": "markdown",
   "id": "3c947657",
   "metadata": {},
   "source": [
    "## Data Preprocessing / Data Cleaning"
   ]
  },
  {
   "cell_type": "code",
   "execution_count": 106,
   "id": "7f8ba135",
   "metadata": {},
   "outputs": [
    {
     "data": {
      "text/plain": [
       "age               0\n",
       "job               0\n",
       "marital           0\n",
       "education_qual    0\n",
       "call_type         0\n",
       "day               0\n",
       "mon               0\n",
       "dur               0\n",
       "num_calls         0\n",
       "prev_outcome      0\n",
       "y                 0\n",
       "dtype: int64"
      ]
     },
     "execution_count": 106,
     "metadata": {},
     "output_type": "execute_result"
    }
   ],
   "source": [
    "#Identify missing or null values\n",
    "df.isnull().sum()"
   ]
  },
  {
   "cell_type": "code",
   "execution_count": 107,
   "id": "96cda3b4",
   "metadata": {},
   "outputs": [
    {
     "data": {
      "text/plain": [
       "6"
      ]
     },
     "execution_count": 107,
     "metadata": {},
     "output_type": "execute_result"
    }
   ],
   "source": [
    "#Handle duplicate records\n",
    "df.duplicated().sum()"
   ]
  },
  {
   "cell_type": "code",
   "execution_count": 108,
   "id": "5c177f98",
   "metadata": {},
   "outputs": [
    {
     "name": "stdout",
     "output_type": "stream",
     "text": [
      "       age          job  marital education_qual call_type  day  mon  dur  \\\n",
      "6893    34     services  married      secondary   unknown   28  may  124   \n",
      "8138    29       admin.   single      secondary   unknown    2  jun  121   \n",
      "11630   39  blue-collar  married        primary   unknown   19  jun  112   \n",
      "13400   36  blue-collar  married      secondary  cellular    9  jul  183   \n",
      "19826   36   management  married       tertiary  cellular    8  aug   75   \n",
      "19854   32   technician   single       tertiary  cellular    8  aug   31   \n",
      "\n",
      "       num_calls prev_outcome   y  \n",
      "6893           1      unknown  no  \n",
      "8138           4      unknown  no  \n",
      "11630          4      unknown  no  \n",
      "13400          1      unknown  no  \n",
      "19826          2      unknown  no  \n",
      "19854          2      unknown  no  \n"
     ]
    }
   ],
   "source": [
    "duplicate_rows = df[df.duplicated()]\n",
    "# Printing the duplicate rows\n",
    "print(duplicate_rows)"
   ]
  },
  {
   "cell_type": "code",
   "execution_count": 109,
   "id": "dc757bd0",
   "metadata": {},
   "outputs": [
    {
     "data": {
      "text/plain": [
       "0"
      ]
     },
     "execution_count": 109,
     "metadata": {},
     "output_type": "execute_result"
    }
   ],
   "source": [
    "df.drop_duplicates(inplace=True) #Removing the 6 duplicate rows\n",
    "df.duplicated().sum()"
   ]
  },
  {
   "cell_type": "code",
   "execution_count": 110,
   "id": "6342a74c",
   "metadata": {
    "scrolled": true
   },
   "outputs": [
    {
     "name": "stdout",
     "output_type": "stream",
     "text": [
      "Unique values in the column \"job\" - ['management' 'technician' 'entrepreneur' 'blue-collar' 'unknown'\n",
      " 'retired' 'admin.' 'services' 'self-employed' 'unemployed' 'housemaid'\n",
      " 'student']\n",
      "Unique values in the column \"marital\" - ['married' 'single' 'divorced']\n",
      "Unique values in the column \"education_qual\" - ['tertiary' 'secondary' 'unknown' 'primary']\n",
      "Unique values in the column \"call_type\" - ['unknown' 'cellular' 'telephone']\n",
      "Unique values in the column \"mon\" - ['may' 'jun' 'jul' 'aug' 'oct' 'nov' 'dec' 'jan' 'feb' 'mar' 'apr' 'sep']\n",
      "Unique values in the column \"prev_outcome\" - ['unknown' 'failure' 'other' 'success']\n",
      "Unique values in the column \"y\" - ['no' 'yes']\n"
     ]
    }
   ],
   "source": [
    "#looking for Data inconsistancy by checking unique values for the needed columns\n",
    "columns = df.columns\n",
    "for k in columns:\n",
    "    if k in ['age','day','dur','num_calls']:\n",
    "        pass\n",
    "    else:\n",
    "        print(f'Unique values in the column \"{k}\" - {df[k].unique()}')"
   ]
  },
  {
   "cell_type": "markdown",
   "id": "0ea28ba3",
   "metadata": {},
   "source": [
    "#### Handling the unknow data in the 3 columns [ education_qual, call_type, previous_outcome ]"
   ]
  },
  {
   "cell_type": "code",
   "execution_count": 111,
   "id": "ab17d441",
   "metadata": {},
   "outputs": [],
   "source": [
    "x = df['y'].value_counts().to_list()"
   ]
  },
  {
   "cell_type": "code",
   "execution_count": 112,
   "id": "3bf75419",
   "metadata": {
    "scrolled": true
   },
   "outputs": [
    {
     "data": {
      "image/png": "[encoded data removed]",
      "text/plain": [
       "<Figure size 640x480 with 1 Axes>"
      ]
     },
     "metadata": {},
     "output_type": "display_data"
    }
   ],
   "source": [
    "%matplotlib inline\n",
    "plt.pie(x,labels=['no','yes'],autopct='%1.1f%%')\n",
    "plt.title('Count Of Yes or No / Count of dependent categorical Variable')\n",
    "plt.show()"
   ]
  },
  {
   "cell_type": "markdown",
   "id": "a2ad480d",
   "metadata": {},
   "source": [
    "#### From the above pie chart we can say that the data is imbalaced so keeping that in mind we will be handling the unknow data"
   ]
  },
  {
   "cell_type": "code",
   "execution_count": 113,
   "id": "878e1656",
   "metadata": {
    "scrolled": true
   },
   "outputs": [
    {
     "data": {
      "text/plain": [
       "no     39916\n",
       "yes     5289\n",
       "Name: y, dtype: int64"
      ]
     },
     "execution_count": 113,
     "metadata": {},
     "output_type": "execute_result"
    }
   ],
   "source": [
    "df['y'].value_counts() #looking at the target variable for data imbalance to take a decision to whether to remove the unknown data rows or to replace or to leave as it is"
   ]
  },
  {
   "cell_type": "code",
   "execution_count": 114,
   "id": "19be2a7c",
   "metadata": {},
   "outputs": [
    {
     "data": {
      "text/plain": [
       "no     1605\n",
       "yes     252\n",
       "Name: y, dtype: int64"
      ]
     },
     "execution_count": 114,
     "metadata": {},
     "output_type": "execute_result"
    }
   ],
   "source": [
    "#checking the distribution of unknown data among the target variable\n",
    "unknown = df[df['education_qual'] == 'unknown']\n",
    "unknown['y'].value_counts()     \n",
    "#4.7 % of the minority data will have impact if i replace the target variable'yes'.it is already a minority data point so i am not replacing it "
   ]
  },
  {
   "cell_type": "code",
   "execution_count": 115,
   "id": "ce2dd6ee",
   "metadata": {},
   "outputs": [
    {
     "data": {
      "text/plain": [
       "no     12487\n",
       "yes      530\n",
       "Name: y, dtype: int64"
      ]
     },
     "execution_count": 115,
     "metadata": {},
     "output_type": "execute_result"
    }
   ],
   "source": [
    "unknown = df[df['call_type'] == 'unknown']\n",
    "unknown['y'].value_counts()\n",
    "#if i replace . it will make a large noise so i left it as it is."
   ]
  },
  {
   "cell_type": "code",
   "execution_count": 116,
   "id": "3417fcdb",
   "metadata": {},
   "outputs": [
    {
     "data": {
      "text/plain": [
       "no     33567\n",
       "yes     3386\n",
       "Name: y, dtype: int64"
      ]
     },
     "execution_count": 116,
     "metadata": {},
     "output_type": "execute_result"
    }
   ],
   "source": [
    "unknown = df[df['prev_outcome'] == 'unknown']\n",
    "unknown['y'].value_counts()"
   ]
  },
  {
   "cell_type": "code",
   "execution_count": 117,
   "id": "c56d9494",
   "metadata": {},
   "outputs": [
    {
     "data": {
      "text/plain": [
       "no     39916\n",
       "yes     5289\n",
       "Name: y, dtype: int64"
      ]
     },
     "execution_count": 117,
     "metadata": {},
     "output_type": "execute_result"
    }
   ],
   "source": [
    "df['y'].value_counts()"
   ]
  },
  {
   "cell_type": "code",
   "execution_count": 118,
   "id": "db2ee851",
   "metadata": {},
   "outputs": [
    {
     "name": "stdout",
     "output_type": "stream",
     "text": [
      "<class 'pandas.core.frame.DataFrame'>\n",
      "Int64Index: 45205 entries, 0 to 45210\n",
      "Data columns (total 11 columns):\n",
      " #   Column          Non-Null Count  Dtype \n",
      "---  ------          --------------  ----- \n",
      " 0   age             45205 non-null  int64 \n",
      " 1   job             45205 non-null  object\n",
      " 2   marital         45205 non-null  object\n",
      " 3   education_qual  45205 non-null  object\n",
      " 4   call_type       45205 non-null  object\n",
      " 5   day             45205 non-null  int64 \n",
      " 6   mon             45205 non-null  object\n",
      " 7   dur             45205 non-null  int64 \n",
      " 8   num_calls       45205 non-null  int64 \n",
      " 9   prev_outcome    45205 non-null  object\n",
      " 10  y               45205 non-null  object\n",
      "dtypes: int64(4), object(7)\n",
      "memory usage: 4.1+ MB\n"
     ]
    }
   ],
   "source": [
    "#Dealing with incorrect data types\n",
    "df.info()"
   ]
  },
  {
   "cell_type": "markdown",
   "id": "2750c470",
   "metadata": {},
   "source": [
    "## EDA"
   ]
  },
  {
   "cell_type": "code",
   "execution_count": 119,
   "id": "b35cb203",
   "metadata": {},
   "outputs": [],
   "source": [
    "positive = df[df['y'] == 'yes']\n",
    "negative = df[df['y'] == 'no']"
   ]
  },
  {
   "cell_type": "markdown",
   "id": "aeea427c",
   "metadata": {},
   "source": [
    "### Analysing who the most bought the product"
   ]
  },
  {
   "cell_type": "code",
   "execution_count": 120,
   "id": "2421ebe5",
   "metadata": {
    "scrolled": true
   },
   "outputs": [
    {
     "name": "stdout",
     "output_type": "stream",
     "text": [
      "(32, 221)\n",
      "(30, 217)\n",
      "(33, 210)\n",
      "(35, 209)\n",
      "(31, 206)\n",
      "(34, 198)\n",
      "(36, 195)\n",
      "(29, 171)\n",
      "(37, 170)\n",
      "(28, 162)\n",
      "(38, 144)\n",
      "(39, 143)\n",
      "(27, 141)\n",
      "(26, 134)\n",
      "(41, 120)\n"
     ]
    }
   ],
   "source": [
    "x = positive['age'].value_counts().to_dict()\n",
    "count = 0\n",
    "\n",
    "for k in x.items():\n",
    "    count += 1\n",
    "    if count < 16:\n",
    "        print(k)"
   ]
  },
  {
   "cell_type": "markdown",
   "id": "bfdd1c2a",
   "metadata": {},
   "source": [
    "**most people between the age group 26-35 bought the product**"
   ]
  },
  {
   "cell_type": "code",
   "execution_count": 121,
   "id": "ac396b33",
   "metadata": {},
   "outputs": [
    {
     "data": {
      "image/png": "[encoded data removed]",
      "text/plain": [
       "<Figure size 640x480 with 1 Axes>"
      ]
     },
     "metadata": {},
     "output_type": "display_data"
    }
   ],
   "source": [
    "data = positive['education_qual'].value_counts().to_dict()\n",
    "x = data.values()\n",
    "label = data.keys()\n",
    "plt.pie(x,labels=label,autopct='%1.1f%%',explode=[0.1,0,0,0])\n",
    "plt.title('Educational Background of the Customers Who bought the Product')\n",
    "plt.show()"
   ]
  },
  {
   "cell_type": "code",
   "execution_count": 122,
   "id": "9e056012",
   "metadata": {
    "scrolled": true
   },
   "outputs": [
    {
     "data": {
      "image/png": "[encoded data removed]",
      "text/plain": [
       "<Figure size 640x480 with 1 Axes>"
      ]
     },
     "metadata": {},
     "output_type": "display_data"
    }
   ],
   "source": [
    "x = positive['marital'].value_counts().to_list()\n",
    "label = positive['marital'].unique()\n",
    "plt.pie(x,labels=label,autopct='%1.1f%%',explode=[0.1,0,0])\n",
    "plt.title('Marital status of the Customers who bought the product')\n",
    "plt.show()"
   ]
  },
  {
   "cell_type": "code",
   "execution_count": 123,
   "id": "32b8f52a",
   "metadata": {
    "scrolled": true
   },
   "outputs": [
    {
     "data": {
      "image/png": "[encoded data removed]",
      "text/plain": [
       "<Figure size 640x480 with 1 Axes>"
      ]
     },
     "metadata": {},
     "output_type": "display_data"
    }
   ],
   "source": [
    "data = positive['job'].value_counts().to_dict()\n",
    "x = data.values()\n",
    "label = data.keys()\n",
    "plt.pie(x,labels=label,autopct='%1.1f%%',explode=[0.1,0,0,0,0,0,0,0,0,0,0,0])\n",
    "plt.title('Working Professionals Who bought the product')\n",
    "plt.show()"
   ]
  },
  {
   "cell_type": "markdown",
   "id": "d7f64572",
   "metadata": {},
   "source": [
    "### Encoding"
   ]
  },
  {
   "cell_type": "code",
   "execution_count": 124,
   "id": "909ebf0b",
   "metadata": {},
   "outputs": [],
   "source": [
    "df['y'] = df['y'].map({'yes':1,'no':0}) #label encoding for the binary target variable"
   ]
  },
  {
   "cell_type": "code",
   "execution_count": 125,
   "id": "03e017ca",
   "metadata": {},
   "outputs": [],
   "source": [
    "df_encoded = pd.get_dummies(df, columns=['job','marital','education_qual','call_type','mon']) # one-hot-encoding for all other categorical variable"
   ]
  },
  {
   "cell_type": "code",
   "execution_count": 126,
   "id": "466541e8",
   "metadata": {},
   "outputs": [
    {
     "data": {
      "text/html": [
       "<div>\n",
       "<style scoped>\n",
       "    .dataframe tbody tr th:only-of-type {\n",
       "        vertical-align: middle;\n",
       "    }\n",
       "\n",
       "    .dataframe tbody tr th {\n",
       "        vertical-align: top;\n",
       "    }\n",
       "\n",
       "    .dataframe thead th {\n",
       "        text-align: right;\n",
       "    }\n",
       "</style>\n",
       "<table border=\"1\" class=\"dataframe\">\n",
       "  <thead>\n",
       "    <tr style=\"text-align: right;\">\n",
       "      <th></th>\n",
       "      <th>age</th>\n",
       "      <th>day</th>\n",
       "      <th>dur</th>\n",
       "      <th>num_calls</th>\n",
       "      <th>y</th>\n",
       "      <th>job_admin.</th>\n",
       "      <th>job_blue-collar</th>\n",
       "      <th>job_entrepreneur</th>\n",
       "      <th>job_housemaid</th>\n",
       "      <th>job_management</th>\n",
       "      <th>...</th>\n",
       "      <th>mon_dec</th>\n",
       "      <th>mon_feb</th>\n",
       "      <th>mon_jan</th>\n",
       "      <th>mon_jul</th>\n",
       "      <th>mon_jun</th>\n",
       "      <th>mon_mar</th>\n",
       "      <th>mon_may</th>\n",
       "      <th>mon_nov</th>\n",
       "      <th>mon_oct</th>\n",
       "      <th>mon_sep</th>\n",
       "    </tr>\n",
       "  </thead>\n",
       "  <tbody>\n",
       "    <tr>\n",
       "      <th>0</th>\n",
       "      <td>58</td>\n",
       "      <td>5</td>\n",
       "      <td>261</td>\n",
       "      <td>1</td>\n",
       "      <td>0</td>\n",
       "      <td>0</td>\n",
       "      <td>0</td>\n",
       "      <td>0</td>\n",
       "      <td>0</td>\n",
       "      <td>1</td>\n",
       "      <td>...</td>\n",
       "      <td>0</td>\n",
       "      <td>0</td>\n",
       "      <td>0</td>\n",
       "      <td>0</td>\n",
       "      <td>0</td>\n",
       "      <td>0</td>\n",
       "      <td>1</td>\n",
       "      <td>0</td>\n",
       "      <td>0</td>\n",
       "      <td>0</td>\n",
       "    </tr>\n",
       "    <tr>\n",
       "      <th>1</th>\n",
       "      <td>44</td>\n",
       "      <td>5</td>\n",
       "      <td>151</td>\n",
       "      <td>1</td>\n",
       "      <td>0</td>\n",
       "      <td>0</td>\n",
       "      <td>0</td>\n",
       "      <td>0</td>\n",
       "      <td>0</td>\n",
       "      <td>0</td>\n",
       "      <td>...</td>\n",
       "      <td>0</td>\n",
       "      <td>0</td>\n",
       "      <td>0</td>\n",
       "      <td>0</td>\n",
       "      <td>0</td>\n",
       "      <td>0</td>\n",
       "      <td>1</td>\n",
       "      <td>0</td>\n",
       "      <td>0</td>\n",
       "      <td>0</td>\n",
       "    </tr>\n",
       "    <tr>\n",
       "      <th>2</th>\n",
       "      <td>33</td>\n",
       "      <td>5</td>\n",
       "      <td>76</td>\n",
       "      <td>1</td>\n",
       "      <td>0</td>\n",
       "      <td>0</td>\n",
       "      <td>0</td>\n",
       "      <td>1</td>\n",
       "      <td>0</td>\n",
       "      <td>0</td>\n",
       "      <td>...</td>\n",
       "      <td>0</td>\n",
       "      <td>0</td>\n",
       "      <td>0</td>\n",
       "      <td>0</td>\n",
       "      <td>0</td>\n",
       "      <td>0</td>\n",
       "      <td>1</td>\n",
       "      <td>0</td>\n",
       "      <td>0</td>\n",
       "      <td>0</td>\n",
       "    </tr>\n",
       "    <tr>\n",
       "      <th>3</th>\n",
       "      <td>47</td>\n",
       "      <td>5</td>\n",
       "      <td>92</td>\n",
       "      <td>1</td>\n",
       "      <td>0</td>\n",
       "      <td>0</td>\n",
       "      <td>1</td>\n",
       "      <td>0</td>\n",
       "      <td>0</td>\n",
       "      <td>0</td>\n",
       "      <td>...</td>\n",
       "      <td>0</td>\n",
       "      <td>0</td>\n",
       "      <td>0</td>\n",
       "      <td>0</td>\n",
       "      <td>0</td>\n",
       "      <td>0</td>\n",
       "      <td>1</td>\n",
       "      <td>0</td>\n",
       "      <td>0</td>\n",
       "      <td>0</td>\n",
       "    </tr>\n",
       "    <tr>\n",
       "      <th>4</th>\n",
       "      <td>33</td>\n",
       "      <td>5</td>\n",
       "      <td>198</td>\n",
       "      <td>1</td>\n",
       "      <td>0</td>\n",
       "      <td>0</td>\n",
       "      <td>0</td>\n",
       "      <td>0</td>\n",
       "      <td>0</td>\n",
       "      <td>0</td>\n",
       "      <td>...</td>\n",
       "      <td>0</td>\n",
       "      <td>0</td>\n",
       "      <td>0</td>\n",
       "      <td>0</td>\n",
       "      <td>0</td>\n",
       "      <td>0</td>\n",
       "      <td>1</td>\n",
       "      <td>0</td>\n",
       "      <td>0</td>\n",
       "      <td>0</td>\n",
       "    </tr>\n",
       "    <tr>\n",
       "      <th>...</th>\n",
       "      <td>...</td>\n",
       "      <td>...</td>\n",
       "      <td>...</td>\n",
       "      <td>...</td>\n",
       "      <td>...</td>\n",
       "      <td>...</td>\n",
       "      <td>...</td>\n",
       "      <td>...</td>\n",
       "      <td>...</td>\n",
       "      <td>...</td>\n",
       "      <td>...</td>\n",
       "      <td>...</td>\n",
       "      <td>...</td>\n",
       "      <td>...</td>\n",
       "      <td>...</td>\n",
       "      <td>...</td>\n",
       "      <td>...</td>\n",
       "      <td>...</td>\n",
       "      <td>...</td>\n",
       "      <td>...</td>\n",
       "      <td>...</td>\n",
       "    </tr>\n",
       "    <tr>\n",
       "      <th>45206</th>\n",
       "      <td>51</td>\n",
       "      <td>17</td>\n",
       "      <td>977</td>\n",
       "      <td>3</td>\n",
       "      <td>1</td>\n",
       "      <td>0</td>\n",
       "      <td>0</td>\n",
       "      <td>0</td>\n",
       "      <td>0</td>\n",
       "      <td>0</td>\n",
       "      <td>...</td>\n",
       "      <td>0</td>\n",
       "      <td>0</td>\n",
       "      <td>0</td>\n",
       "      <td>0</td>\n",
       "      <td>0</td>\n",
       "      <td>0</td>\n",
       "      <td>0</td>\n",
       "      <td>1</td>\n",
       "      <td>0</td>\n",
       "      <td>0</td>\n",
       "    </tr>\n",
       "    <tr>\n",
       "      <th>45207</th>\n",
       "      <td>71</td>\n",
       "      <td>17</td>\n",
       "      <td>456</td>\n",
       "      <td>2</td>\n",
       "      <td>1</td>\n",
       "      <td>0</td>\n",
       "      <td>0</td>\n",
       "      <td>0</td>\n",
       "      <td>0</td>\n",
       "      <td>0</td>\n",
       "      <td>...</td>\n",
       "      <td>0</td>\n",
       "      <td>0</td>\n",
       "      <td>0</td>\n",
       "      <td>0</td>\n",
       "      <td>0</td>\n",
       "      <td>0</td>\n",
       "      <td>0</td>\n",
       "      <td>1</td>\n",
       "      <td>0</td>\n",
       "      <td>0</td>\n",
       "    </tr>\n",
       "    <tr>\n",
       "      <th>45208</th>\n",
       "      <td>72</td>\n",
       "      <td>17</td>\n",
       "      <td>1127</td>\n",
       "      <td>5</td>\n",
       "      <td>1</td>\n",
       "      <td>0</td>\n",
       "      <td>0</td>\n",
       "      <td>0</td>\n",
       "      <td>0</td>\n",
       "      <td>0</td>\n",
       "      <td>...</td>\n",
       "      <td>0</td>\n",
       "      <td>0</td>\n",
       "      <td>0</td>\n",
       "      <td>0</td>\n",
       "      <td>0</td>\n",
       "      <td>0</td>\n",
       "      <td>0</td>\n",
       "      <td>1</td>\n",
       "      <td>0</td>\n",
       "      <td>0</td>\n",
       "    </tr>\n",
       "    <tr>\n",
       "      <th>45209</th>\n",
       "      <td>57</td>\n",
       "      <td>17</td>\n",
       "      <td>508</td>\n",
       "      <td>4</td>\n",
       "      <td>0</td>\n",
       "      <td>0</td>\n",
       "      <td>1</td>\n",
       "      <td>0</td>\n",
       "      <td>0</td>\n",
       "      <td>0</td>\n",
       "      <td>...</td>\n",
       "      <td>0</td>\n",
       "      <td>0</td>\n",
       "      <td>0</td>\n",
       "      <td>0</td>\n",
       "      <td>0</td>\n",
       "      <td>0</td>\n",
       "      <td>0</td>\n",
       "      <td>1</td>\n",
       "      <td>0</td>\n",
       "      <td>0</td>\n",
       "    </tr>\n",
       "    <tr>\n",
       "      <th>45210</th>\n",
       "      <td>37</td>\n",
       "      <td>17</td>\n",
       "      <td>361</td>\n",
       "      <td>2</td>\n",
       "      <td>0</td>\n",
       "      <td>0</td>\n",
       "      <td>0</td>\n",
       "      <td>1</td>\n",
       "      <td>0</td>\n",
       "      <td>0</td>\n",
       "      <td>...</td>\n",
       "      <td>0</td>\n",
       "      <td>0</td>\n",
       "      <td>0</td>\n",
       "      <td>0</td>\n",
       "      <td>0</td>\n",
       "      <td>0</td>\n",
       "      <td>0</td>\n",
       "      <td>1</td>\n",
       "      <td>0</td>\n",
       "      <td>0</td>\n",
       "    </tr>\n",
       "  </tbody>\n",
       "</table>\n",
       "<p>45205 rows × 39 columns</p>\n",
       "</div>"
      ],
      "text/plain": [
       "       age  day   dur  num_calls  y  job_admin.  job_blue-collar  \\\n",
       "0       58    5   261          1  0           0                0   \n",
       "1       44    5   151          1  0           0                0   \n",
       "2       33    5    76          1  0           0                0   \n",
       "3       47    5    92          1  0           0                1   \n",
       "4       33    5   198          1  0           0                0   \n",
       "...    ...  ...   ...        ... ..         ...              ...   \n",
       "45206   51   17   977          3  1           0                0   \n",
       "45207   71   17   456          2  1           0                0   \n",
       "45208   72   17  1127          5  1           0                0   \n",
       "45209   57   17   508          4  0           0                1   \n",
       "45210   37   17   361          2  0           0                0   \n",
       "\n",
       "       job_entrepreneur  job_housemaid  job_management  ...  mon_dec  mon_feb  \\\n",
       "0                     0              0               1  ...        0        0   \n",
       "1                     0              0               0  ...        0        0   \n",
       "2                     1              0               0  ...        0        0   \n",
       "3                     0              0               0  ...        0        0   \n",
       "4                     0              0               0  ...        0        0   \n",
       "...                 ...            ...             ...  ...      ...      ...   \n",
       "45206                 0              0               0  ...        0        0   \n",
       "45207                 0              0               0  ...        0        0   \n",
       "45208                 0              0               0  ...        0        0   \n",
       "45209                 0              0               0  ...        0        0   \n",
       "45210                 1              0               0  ...        0        0   \n",
       "\n",
       "       mon_jan  mon_jul  mon_jun  mon_mar  mon_may  mon_nov  mon_oct  mon_sep  \n",
       "0            0        0        0        0        1        0        0        0  \n",
       "1            0        0        0        0        1        0        0        0  \n",
       "2            0        0        0        0        1        0        0        0  \n",
       "3            0        0        0        0        1        0        0        0  \n",
       "4            0        0        0        0        1        0        0        0  \n",
       "...        ...      ...      ...      ...      ...      ...      ...      ...  \n",
       "45206        0        0        0        0        0        1        0        0  \n",
       "45207        0        0        0        0        0        1        0        0  \n",
       "45208        0        0        0        0        0        1        0        0  \n",
       "45209        0        0        0        0        0        1        0        0  \n",
       "45210        0        0        0        0        0        1        0        0  \n",
       "\n",
       "[45205 rows x 39 columns]"
      ]
     },
     "execution_count": 126,
     "metadata": {},
     "output_type": "execute_result"
    }
   ],
   "source": [
    "df_encoded = df_encoded.drop(['prev_outcome'],axis = 1) #droping these unwanted columns\n",
    "df_encoded"
   ]
  },
  {
   "cell_type": "code",
   "execution_count": 127,
   "id": "8e1ad77e",
   "metadata": {},
   "outputs": [
    {
     "data": {
      "text/html": [
       "<div>\n",
       "<style scoped>\n",
       "    .dataframe tbody tr th:only-of-type {\n",
       "        vertical-align: middle;\n",
       "    }\n",
       "\n",
       "    .dataframe tbody tr th {\n",
       "        vertical-align: top;\n",
       "    }\n",
       "\n",
       "    .dataframe thead th {\n",
       "        text-align: right;\n",
       "    }\n",
       "</style>\n",
       "<table border=\"1\" class=\"dataframe\">\n",
       "  <thead>\n",
       "    <tr style=\"text-align: right;\">\n",
       "      <th></th>\n",
       "      <th>age</th>\n",
       "      <th>day</th>\n",
       "      <th>dur</th>\n",
       "      <th>num_calls</th>\n",
       "      <th>job_admin.</th>\n",
       "      <th>job_blue-collar</th>\n",
       "      <th>job_entrepreneur</th>\n",
       "      <th>job_housemaid</th>\n",
       "      <th>job_management</th>\n",
       "      <th>job_retired</th>\n",
       "      <th>...</th>\n",
       "      <th>mon_feb</th>\n",
       "      <th>mon_jan</th>\n",
       "      <th>mon_jul</th>\n",
       "      <th>mon_jun</th>\n",
       "      <th>mon_mar</th>\n",
       "      <th>mon_may</th>\n",
       "      <th>mon_nov</th>\n",
       "      <th>mon_oct</th>\n",
       "      <th>mon_sep</th>\n",
       "      <th>target</th>\n",
       "    </tr>\n",
       "  </thead>\n",
       "  <tbody>\n",
       "    <tr>\n",
       "      <th>0</th>\n",
       "      <td>58</td>\n",
       "      <td>5</td>\n",
       "      <td>261</td>\n",
       "      <td>1</td>\n",
       "      <td>0</td>\n",
       "      <td>0</td>\n",
       "      <td>0</td>\n",
       "      <td>0</td>\n",
       "      <td>1</td>\n",
       "      <td>0</td>\n",
       "      <td>...</td>\n",
       "      <td>0</td>\n",
       "      <td>0</td>\n",
       "      <td>0</td>\n",
       "      <td>0</td>\n",
       "      <td>0</td>\n",
       "      <td>1</td>\n",
       "      <td>0</td>\n",
       "      <td>0</td>\n",
       "      <td>0</td>\n",
       "      <td>0</td>\n",
       "    </tr>\n",
       "    <tr>\n",
       "      <th>1</th>\n",
       "      <td>44</td>\n",
       "      <td>5</td>\n",
       "      <td>151</td>\n",
       "      <td>1</td>\n",
       "      <td>0</td>\n",
       "      <td>0</td>\n",
       "      <td>0</td>\n",
       "      <td>0</td>\n",
       "      <td>0</td>\n",
       "      <td>0</td>\n",
       "      <td>...</td>\n",
       "      <td>0</td>\n",
       "      <td>0</td>\n",
       "      <td>0</td>\n",
       "      <td>0</td>\n",
       "      <td>0</td>\n",
       "      <td>1</td>\n",
       "      <td>0</td>\n",
       "      <td>0</td>\n",
       "      <td>0</td>\n",
       "      <td>0</td>\n",
       "    </tr>\n",
       "    <tr>\n",
       "      <th>2</th>\n",
       "      <td>33</td>\n",
       "      <td>5</td>\n",
       "      <td>76</td>\n",
       "      <td>1</td>\n",
       "      <td>0</td>\n",
       "      <td>0</td>\n",
       "      <td>1</td>\n",
       "      <td>0</td>\n",
       "      <td>0</td>\n",
       "      <td>0</td>\n",
       "      <td>...</td>\n",
       "      <td>0</td>\n",
       "      <td>0</td>\n",
       "      <td>0</td>\n",
       "      <td>0</td>\n",
       "      <td>0</td>\n",
       "      <td>1</td>\n",
       "      <td>0</td>\n",
       "      <td>0</td>\n",
       "      <td>0</td>\n",
       "      <td>0</td>\n",
       "    </tr>\n",
       "    <tr>\n",
       "      <th>3</th>\n",
       "      <td>47</td>\n",
       "      <td>5</td>\n",
       "      <td>92</td>\n",
       "      <td>1</td>\n",
       "      <td>0</td>\n",
       "      <td>1</td>\n",
       "      <td>0</td>\n",
       "      <td>0</td>\n",
       "      <td>0</td>\n",
       "      <td>0</td>\n",
       "      <td>...</td>\n",
       "      <td>0</td>\n",
       "      <td>0</td>\n",
       "      <td>0</td>\n",
       "      <td>0</td>\n",
       "      <td>0</td>\n",
       "      <td>1</td>\n",
       "      <td>0</td>\n",
       "      <td>0</td>\n",
       "      <td>0</td>\n",
       "      <td>0</td>\n",
       "    </tr>\n",
       "    <tr>\n",
       "      <th>4</th>\n",
       "      <td>33</td>\n",
       "      <td>5</td>\n",
       "      <td>198</td>\n",
       "      <td>1</td>\n",
       "      <td>0</td>\n",
       "      <td>0</td>\n",
       "      <td>0</td>\n",
       "      <td>0</td>\n",
       "      <td>0</td>\n",
       "      <td>0</td>\n",
       "      <td>...</td>\n",
       "      <td>0</td>\n",
       "      <td>0</td>\n",
       "      <td>0</td>\n",
       "      <td>0</td>\n",
       "      <td>0</td>\n",
       "      <td>1</td>\n",
       "      <td>0</td>\n",
       "      <td>0</td>\n",
       "      <td>0</td>\n",
       "      <td>0</td>\n",
       "    </tr>\n",
       "    <tr>\n",
       "      <th>...</th>\n",
       "      <td>...</td>\n",
       "      <td>...</td>\n",
       "      <td>...</td>\n",
       "      <td>...</td>\n",
       "      <td>...</td>\n",
       "      <td>...</td>\n",
       "      <td>...</td>\n",
       "      <td>...</td>\n",
       "      <td>...</td>\n",
       "      <td>...</td>\n",
       "      <td>...</td>\n",
       "      <td>...</td>\n",
       "      <td>...</td>\n",
       "      <td>...</td>\n",
       "      <td>...</td>\n",
       "      <td>...</td>\n",
       "      <td>...</td>\n",
       "      <td>...</td>\n",
       "      <td>...</td>\n",
       "      <td>...</td>\n",
       "      <td>...</td>\n",
       "    </tr>\n",
       "    <tr>\n",
       "      <th>45206</th>\n",
       "      <td>51</td>\n",
       "      <td>17</td>\n",
       "      <td>977</td>\n",
       "      <td>3</td>\n",
       "      <td>0</td>\n",
       "      <td>0</td>\n",
       "      <td>0</td>\n",
       "      <td>0</td>\n",
       "      <td>0</td>\n",
       "      <td>0</td>\n",
       "      <td>...</td>\n",
       "      <td>0</td>\n",
       "      <td>0</td>\n",
       "      <td>0</td>\n",
       "      <td>0</td>\n",
       "      <td>0</td>\n",
       "      <td>0</td>\n",
       "      <td>1</td>\n",
       "      <td>0</td>\n",
       "      <td>0</td>\n",
       "      <td>1</td>\n",
       "    </tr>\n",
       "    <tr>\n",
       "      <th>45207</th>\n",
       "      <td>71</td>\n",
       "      <td>17</td>\n",
       "      <td>456</td>\n",
       "      <td>2</td>\n",
       "      <td>0</td>\n",
       "      <td>0</td>\n",
       "      <td>0</td>\n",
       "      <td>0</td>\n",
       "      <td>0</td>\n",
       "      <td>1</td>\n",
       "      <td>...</td>\n",
       "      <td>0</td>\n",
       "      <td>0</td>\n",
       "      <td>0</td>\n",
       "      <td>0</td>\n",
       "      <td>0</td>\n",
       "      <td>0</td>\n",
       "      <td>1</td>\n",
       "      <td>0</td>\n",
       "      <td>0</td>\n",
       "      <td>1</td>\n",
       "    </tr>\n",
       "    <tr>\n",
       "      <th>45208</th>\n",
       "      <td>72</td>\n",
       "      <td>17</td>\n",
       "      <td>1127</td>\n",
       "      <td>5</td>\n",
       "      <td>0</td>\n",
       "      <td>0</td>\n",
       "      <td>0</td>\n",
       "      <td>0</td>\n",
       "      <td>0</td>\n",
       "      <td>1</td>\n",
       "      <td>...</td>\n",
       "      <td>0</td>\n",
       "      <td>0</td>\n",
       "      <td>0</td>\n",
       "      <td>0</td>\n",
       "      <td>0</td>\n",
       "      <td>0</td>\n",
       "      <td>1</td>\n",
       "      <td>0</td>\n",
       "      <td>0</td>\n",
       "      <td>1</td>\n",
       "    </tr>\n",
       "    <tr>\n",
       "      <th>45209</th>\n",
       "      <td>57</td>\n",
       "      <td>17</td>\n",
       "      <td>508</td>\n",
       "      <td>4</td>\n",
       "      <td>0</td>\n",
       "      <td>1</td>\n",
       "      <td>0</td>\n",
       "      <td>0</td>\n",
       "      <td>0</td>\n",
       "      <td>0</td>\n",
       "      <td>...</td>\n",
       "      <td>0</td>\n",
       "      <td>0</td>\n",
       "      <td>0</td>\n",
       "      <td>0</td>\n",
       "      <td>0</td>\n",
       "      <td>0</td>\n",
       "      <td>1</td>\n",
       "      <td>0</td>\n",
       "      <td>0</td>\n",
       "      <td>0</td>\n",
       "    </tr>\n",
       "    <tr>\n",
       "      <th>45210</th>\n",
       "      <td>37</td>\n",
       "      <td>17</td>\n",
       "      <td>361</td>\n",
       "      <td>2</td>\n",
       "      <td>0</td>\n",
       "      <td>0</td>\n",
       "      <td>1</td>\n",
       "      <td>0</td>\n",
       "      <td>0</td>\n",
       "      <td>0</td>\n",
       "      <td>...</td>\n",
       "      <td>0</td>\n",
       "      <td>0</td>\n",
       "      <td>0</td>\n",
       "      <td>0</td>\n",
       "      <td>0</td>\n",
       "      <td>0</td>\n",
       "      <td>1</td>\n",
       "      <td>0</td>\n",
       "      <td>0</td>\n",
       "      <td>0</td>\n",
       "    </tr>\n",
       "  </tbody>\n",
       "</table>\n",
       "<p>45205 rows × 39 columns</p>\n",
       "</div>"
      ],
      "text/plain": [
       "       age  day   dur  num_calls  job_admin.  job_blue-collar  \\\n",
       "0       58    5   261          1           0                0   \n",
       "1       44    5   151          1           0                0   \n",
       "2       33    5    76          1           0                0   \n",
       "3       47    5    92          1           0                1   \n",
       "4       33    5   198          1           0                0   \n",
       "...    ...  ...   ...        ...         ...              ...   \n",
       "45206   51   17   977          3           0                0   \n",
       "45207   71   17   456          2           0                0   \n",
       "45208   72   17  1127          5           0                0   \n",
       "45209   57   17   508          4           0                1   \n",
       "45210   37   17   361          2           0                0   \n",
       "\n",
       "       job_entrepreneur  job_housemaid  job_management  job_retired  ...  \\\n",
       "0                     0              0               1            0  ...   \n",
       "1                     0              0               0            0  ...   \n",
       "2                     1              0               0            0  ...   \n",
       "3                     0              0               0            0  ...   \n",
       "4                     0              0               0            0  ...   \n",
       "...                 ...            ...             ...          ...  ...   \n",
       "45206                 0              0               0            0  ...   \n",
       "45207                 0              0               0            1  ...   \n",
       "45208                 0              0               0            1  ...   \n",
       "45209                 0              0               0            0  ...   \n",
       "45210                 1              0               0            0  ...   \n",
       "\n",
       "       mon_feb  mon_jan  mon_jul  mon_jun  mon_mar  mon_may  mon_nov  mon_oct  \\\n",
       "0            0        0        0        0        0        1        0        0   \n",
       "1            0        0        0        0        0        1        0        0   \n",
       "2            0        0        0        0        0        1        0        0   \n",
       "3            0        0        0        0        0        1        0        0   \n",
       "4            0        0        0        0        0        1        0        0   \n",
       "...        ...      ...      ...      ...      ...      ...      ...      ...   \n",
       "45206        0        0        0        0        0        0        1        0   \n",
       "45207        0        0        0        0        0        0        1        0   \n",
       "45208        0        0        0        0        0        0        1        0   \n",
       "45209        0        0        0        0        0        0        1        0   \n",
       "45210        0        0        0        0        0        0        1        0   \n",
       "\n",
       "       mon_sep  target  \n",
       "0            0       0  \n",
       "1            0       0  \n",
       "2            0       0  \n",
       "3            0       0  \n",
       "4            0       0  \n",
       "...        ...     ...  \n",
       "45206        0       1  \n",
       "45207        0       1  \n",
       "45208        0       1  \n",
       "45209        0       0  \n",
       "45210        0       0  \n",
       "\n",
       "[45205 rows x 39 columns]"
      ]
     },
     "execution_count": 127,
     "metadata": {},
     "output_type": "execute_result"
    }
   ],
   "source": [
    "#rearranging the columns . \n",
    "target = df_encoded.pop('y')                            \n",
    "df_encoded.insert(len(df_encoded.columns),'target',target)#making the target variable the last column\n",
    "df_encoded"
   ]
  },
  {
   "cell_type": "markdown",
   "id": "09af19f2",
   "metadata": {},
   "source": [
    "### Checking for data imbalance"
   ]
  },
  {
   "cell_type": "code",
   "execution_count": 128,
   "id": "7578a88b",
   "metadata": {},
   "outputs": [
    {
     "data": {
      "text/plain": [
       "0    39916\n",
       "1     5289\n",
       "Name: target, dtype: int64"
      ]
     },
     "execution_count": 128,
     "metadata": {},
     "output_type": "execute_result"
    }
   ],
   "source": [
    "df_encoded['target'].value_counts() #the data is imbalanced"
   ]
  },
  {
   "cell_type": "markdown",
   "id": "4557aadf",
   "metadata": {},
   "source": [
    "* **Synthetic Minority Over-sampling Technique(SMOTE)**\n",
    "   * It is a popular technique used in data science and machine learning to handle imbalanced datasets. The basic idea behind SMOTE is to generate synthetic samples of the minority class so that the classifier can learn to distinguish between the two classes more accurately.\n",
    "   * SMOTE works by selecting a random sample from the minority class and creating new synthetic samples by interpolating between the selected sample and its nearest neighbors. This is repeated until the minority class is over-sampled to a desired level"
   ]
  },
  {
   "cell_type": "code",
   "execution_count": 129,
   "id": "8a50b1a3",
   "metadata": {},
   "outputs": [],
   "source": [
    "from imblearn.over_sampling import SMOTE\n",
    "from sklearn.datasets import make_classification\n",
    "sm = SMOTE(random_state=42,sampling_strategy=0.8)\n",
    "x=df_encoded.drop('target',axis =1)\n",
    "y=df_encoded['target']"
   ]
  },
  {
   "cell_type": "code",
   "execution_count": 130,
   "id": "80f1d9ce",
   "metadata": {},
   "outputs": [
    {
     "name": "stdout",
     "output_type": "stream",
     "text": [
      "(71848, 38) (71848,)\n",
      "(45205, 38)\n"
     ]
    }
   ],
   "source": [
    "x_sam,y_sam = sm.fit_resample(x,y)\n",
    "print(x_sam.shape,y_sam.shape)\n",
    "print(x.shape)"
   ]
  },
  {
   "cell_type": "code",
   "execution_count": 131,
   "id": "1800bf8e",
   "metadata": {},
   "outputs": [
    {
     "data": {
      "text/plain": [
       "0    39916\n",
       "1    31932\n",
       "Name: target, dtype: int64"
      ]
     },
     "execution_count": 131,
     "metadata": {},
     "output_type": "execute_result"
    }
   ],
   "source": [
    "y_sam.value_counts()"
   ]
  },
  {
   "cell_type": "code",
   "execution_count": 132,
   "id": "5ff3c0c6",
   "metadata": {},
   "outputs": [],
   "source": [
    "feature_name = x_sam.columns.to_list() #this variable will be used to extract names of the important features"
   ]
  },
  {
   "cell_type": "markdown",
   "id": "cb8f187f",
   "metadata": {},
   "source": [
    "## Split"
   ]
  },
  {
   "cell_type": "code",
   "execution_count": 133,
   "id": "2c945036",
   "metadata": {},
   "outputs": [],
   "source": [
    "#SPLITING THE INDEPENDENT VARIABLE(X) AND DEPENDENT VARIABLE(Y)\n",
    "X = x_sam.values\n",
    "y = y_sam.values"
   ]
  },
  {
   "cell_type": "code",
   "execution_count": 134,
   "id": "eb40b6bb",
   "metadata": {},
   "outputs": [],
   "source": [
    "from sklearn.model_selection import train_test_split\n",
    "X_train, X_test, y_train, y_test = train_test_split(X, y, test_size = 0.2, random_state = 0)"
   ]
  },
  {
   "cell_type": "markdown",
   "id": "10129ad4",
   "metadata": {},
   "source": [
    "## Scaling the data"
   ]
  },
  {
   "cell_type": "markdown",
   "id": "d4387471",
   "metadata": {},
   "source": [
    " **Scaling the data is a good habit because**\n",
    "  * Improves Model Convergence\n",
    "  * Prevents Numeric Instability\n",
    "  * Improves Regularization"
   ]
  },
  {
   "cell_type": "code",
   "execution_count": 135,
   "id": "2a56eaaa",
   "metadata": {},
   "outputs": [],
   "source": [
    "from sklearn.preprocessing import StandardScaler\n",
    "sc = StandardScaler()\n",
    "X_train = sc.fit_transform(X_train)\n",
    "X_test = sc.transform(X_test)"
   ]
  },
  {
   "cell_type": "markdown",
   "id": "60b9faa6",
   "metadata": {},
   "source": [
    "## Voting classifier"
   ]
  },
  {
   "cell_type": "code",
   "execution_count": 136,
   "id": "6d13933e",
   "metadata": {},
   "outputs": [],
   "source": [
    "from sklearn.ensemble import VotingClassifier\n",
    "from sklearn.ensemble import RandomForestClassifier\n",
    "from sklearn.linear_model import LogisticRegression\n",
    "from sklearn.svm import SVC  #it is must to scale data for svm models\n",
    "from sklearn.ensemble import BaggingClassifier\n",
    "from sklearn import tree\n",
    "from sklearn.metrics import roc_auc_score\n",
    "model_1 = LogisticRegression(random_state = 0)\n",
    "model_2 = SVC(kernel = 'linear', random_state = 0,probability=True)\n",
    "model_3 = BaggingClassifier(tree.DecisionTreeClassifier(max_depth =13 , random_state=1), n_estimators=100)\n",
    "#model_4 = RandomForestClassifier(n_estimators = 13, criterion = 'entropy', random_state = 0)\n",
    "\n",
    "model = VotingClassifier(estimators=[('LR', model_1), ('SVC', model_2),('BC',model_3)],voting='soft')\n",
    "model.fit(X_train,y_train)\n",
    "preds = model.predict(X_test)\n",
    "auroc = roc_auc_score(y_test,model.predict_proba(X_test)[:,1])"
   ]
  },
  {
   "cell_type": "code",
   "execution_count": 137,
   "id": "6160bb4c",
   "metadata": {},
   "outputs": [
    {
     "data": {
      "text/plain": [
       "0.9860375653192288"
      ]
     },
     "execution_count": 137,
     "metadata": {},
     "output_type": "execute_result"
    }
   ],
   "source": [
    "auroc"
   ]
  },
  {
   "cell_type": "markdown",
   "id": "a4b23938",
   "metadata": {},
   "source": [
    "**Bagging Classifier** is an ensemble machine learning technique that is used to improve the accuracy of a classification algorithm. It is based on the concept of bootstrap aggregating (bagging) and uses an ensemble of multiple models trained on different random samples of the training dataset.\n",
    "\n",
    "In bagging classifier, a set of decision trees are created on randomly selected subsets of the training dataset, where each tree is trained on a different subset of the data. The outputs of all the decision trees are then aggregated to make the final prediction. This technique helps to reduce overfitting and increase the accuracy of the model."
   ]
  },
  {
   "cell_type": "code",
   "execution_count": 138,
   "id": "b39173e9",
   "metadata": {},
   "outputs": [],
   "source": [
    "#Extracting Feature importance from the bagging classifier model\n",
    "model = BaggingClassifier(tree.DecisionTreeClassifier(max_depth =13 , random_state=1), n_estimators=100)\n",
    "model.fit(X_train, y_train)\n",
    "y_pred_proba = model.predict_proba(X_test)[:,1]"
   ]
  },
  {
   "cell_type": "markdown",
   "id": "47d363cb",
   "metadata": {},
   "source": [
    "## Feature importance"
   ]
  },
  {
   "cell_type": "code",
   "execution_count": 139,
   "id": "d708d459",
   "metadata": {
    "scrolled": true
   },
   "outputs": [
    {
     "name": "stdout",
     "output_type": "stream",
     "text": [
      "dur 35.86455178388766\n",
      "call_type_unknown 12.133426921333305\n",
      "mon_jul 5.651219534908334\n",
      "day 5.598015530678484\n",
      "mon_may 5.053505513151612\n",
      "mon_nov 4.625244130141725\n",
      "mon_aug 4.361450949109194\n",
      "mon_apr 3.545137331370505\n",
      "mon_feb 3.453648811760248\n",
      "age 3.320102563405797\n",
      "mon_jan 3.2926394999415507\n",
      "num_calls 2.957228975956469\n",
      "job_blue-collar 1.2114918187951433\n",
      "marital_married 0.8939446466003235\n",
      "marital_divorced 0.8916447838467062\n",
      "education_qual_secondary 0.7497725952041044\n",
      "mon_jun 0.679759781341073\n",
      "marital_single 0.6226952338126867\n",
      "education_qual_tertiary 0.6101230198706611\n",
      "mon_oct 0.5210378030086759\n",
      "education_qual_primary 0.516781601172347\n",
      "education_qual_unknown 0.4613670423874305\n",
      "job_management 0.4388275488430407\n",
      "call_type_telephone 0.3923890015162241\n",
      "job_technician 0.36350164189752127\n",
      "call_type_cellular 0.35259094863235424\n",
      "mon_sep 0.2919695614004997\n",
      "job_admin. 0.18959923122567887\n",
      "job_services 0.14230781463959882\n",
      "mon_mar 0.13385713686434741\n",
      "job_student 0.12111358600701803\n",
      "job_unemployed 0.11583548461434284\n",
      "job_self-employed 0.1062135080277966\n",
      "job_retired 0.10543017222524123\n",
      "job_housemaid 0.09166038882699612\n",
      "job_entrepreneur 0.07041673855431314\n",
      "mon_dec 0.039549715966998654\n",
      "job_unknown 0.029947649073954596\n"
     ]
    }
   ],
   "source": [
    "feature_importances = {}\n",
    "\n",
    "# loop over each base estimator in the ensemble\n",
    "for i, clf in enumerate(model.estimators_):\n",
    "    # get feature importances for the base estimator\n",
    "    importances = clf.feature_importances_\n",
    "    # get feature names for the base estimator (assuming you have stored them in a list or array)\n",
    "    feature_names = feature_name\n",
    "    # store feature importances for the base estimator in the dictionary\n",
    "    for feat, importance in zip(feature_names, importances):\n",
    "        if feat in feature_importances:\n",
    "            feature_importances[feat] += importance\n",
    "        else:\n",
    "            feature_importances[feat] = importance\n",
    "\n",
    "# aggregate feature importances across all base estimators\n",
    "total_importances = sum(feature_importances.values())\n",
    "\n",
    "# calculate feature importance scores as percentages\n",
    "feature_importance_scores = {feat: (importance / total_importances) * 100 for feat, importance in feature_importances.items()}\n",
    "\n",
    "# sort feature importance scores in descending order\n",
    "sorted_feature_importance_scores = {k: v for k, v in sorted(feature_importance_scores.items(), key=lambda item: item[1], reverse=True)}\n",
    "\n",
    "# print feature importance scores with their original feature names\n",
    "for feat, score in sorted_feature_importance_scores.items():\n",
    "    print(feat, score)"
   ]
  },
  {
   "cell_type": "code",
   "execution_count": 149,
   "id": "2c5327ef",
   "metadata": {},
   "outputs": [
    {
     "data": {
      "image/png": "[encoded data removed]",
      "text/plain": [
       "<Figure size 640x480 with 1 Axes>"
      ]
     },
     "metadata": {},
     "output_type": "display_data"
    }
   ],
   "source": [
    "import matplotlib.pyplot as plt\n",
    "import numpy as np\n",
    "\n",
    "# Generate some example data\n",
    "features = list(sorted_feature_importance_scores.keys())\n",
    "importance = list(sorted_feature_importance_scores.values())\n",
    "\n",
    "# Create a horizontal bar chart\n",
    "fig, ax = plt.subplots()\n",
    "ax.barh(features[:5], importance[:5])\n",
    "\n",
    "# Add labels and title\n",
    "ax.set_xlabel('Importance')\n",
    "ax.set_title('Top 5 Feature Importance')\n",
    "\n",
    "# Display the plot\n",
    "plt.show()\n"
   ]
  }
 ],
 "metadata": {
  "kernelspec": {
   "display_name": "Python 3 (ipykernel)",
   "language": "python",
   "name": "python3"
  },
  "language_info": {
   "codemirror_mode": {
    "name": "ipython",
    "version": 3
   },
   "file_extension": ".py",
   "mimetype": "text/x-python",
   "name": "python",
   "nbconvert_exporter": "python",
   "pygments_lexer": "ipython3",
   "version": "3.11.2"
  }
 },
 "nbformat": 4,
 "nbformat_minor": 5
}
