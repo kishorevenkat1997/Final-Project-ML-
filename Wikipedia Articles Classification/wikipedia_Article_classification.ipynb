{
 "cells": [
  {
   "cell_type": "markdown",
   "id": "1d4e1240",
   "metadata": {},
   "source": [
    "## Importing the necessary libraries"
   ]
  },
  {
   "cell_type": "code",
   "execution_count": 1,
   "id": "c0a9f8f8",
   "metadata": {},
   "outputs": [],
   "source": [
    "import wikipediaap\n",
    "import pandas as pd\n",
    "import numpy as np\n",
    "import matplotlib.pyplot as plt\n",
    "from sklearn.model_selection import train_test_split\n",
    "from sklearn.metrics import roc_auc_score\n",
    "from sklearn.model_selection import cross_val_score\n",
    "from sklearn.metrics import accuracy_score"
   ]
  },
  {
   "cell_type": "markdown",
   "id": "84128c23",
   "metadata": {},
   "source": [
    "### Extracting a Sample from the 7M Wikipedia Articles "
   ]
  },
  {
   "cell_type": "markdown",
   "id": "825be3a9",
   "metadata": {},
   "source": [
    "**Download link for data1.csv https://drive.google.com/file/d/1hc5sU9B_YeWTcH0mZyDYP5hYlhgC9ASo/view?usp=sharing**"
   ]
  },
  {
   "cell_type": "code",
   "execution_count": 48,
   "id": "2fbe4f62",
   "metadata": {},
   "outputs": [],
   "source": [
    "df = pd.read_csv('data1.csv') #this csv has data about the 7M wikipedia articles "
   ]
  },
  {
   "cell_type": "code",
   "execution_count": 49,
   "id": "9180c2c9",
   "metadata": {},
   "outputs": [
    {
     "data": {
      "text/html": [
       "<div>\n",
       "<style scoped>\n",
       "    .dataframe tbody tr th:only-of-type {\n",
       "        vertical-align: middle;\n",
       "    }\n",
       "\n",
       "    .dataframe tbody tr th {\n",
       "        vertical-align: top;\n",
       "    }\n",
       "\n",
       "    .dataframe thead th {\n",
       "        text-align: right;\n",
       "    }\n",
       "</style>\n",
       "<table border=\"1\" class=\"dataframe\">\n",
       "  <thead>\n",
       "    <tr style=\"text-align: right;\">\n",
       "      <th></th>\n",
       "      <th>Article Name</th>\n",
       "      <th>Vital Article</th>\n",
       "      <th>Level</th>\n",
       "      <th>Class</th>\n",
       "      <th>Importance</th>\n",
       "      <th>Topic</th>\n",
       "      <th>Wikiproject</th>\n",
       "    </tr>\n",
       "  </thead>\n",
       "  <tbody>\n",
       "    <tr>\n",
       "      <th>0</th>\n",
       "      <td>Population_history_of_ancient_Egypt_Archive_8</td>\n",
       "      <td>NaN</td>\n",
       "      <td>NaN</td>\n",
       "      <td>NaN</td>\n",
       "      <td>NaN</td>\n",
       "      <td>NaN</td>\n",
       "      <td>NaN</td>\n",
       "    </tr>\n",
       "    <tr>\n",
       "      <th>1</th>\n",
       "      <td>Sin_Mirar_Atrás</td>\n",
       "      <td>NaN</td>\n",
       "      <td>NaN</td>\n",
       "      <td>NaN</td>\n",
       "      <td>NaN</td>\n",
       "      <td>NaN</td>\n",
       "      <td>NaN</td>\n",
       "    </tr>\n",
       "    <tr>\n",
       "      <th>2</th>\n",
       "      <td>RMWFC</td>\n",
       "      <td>NaN</td>\n",
       "      <td>NaN</td>\n",
       "      <td>NaN</td>\n",
       "      <td>NaN</td>\n",
       "      <td>NaN</td>\n",
       "      <td>NaN</td>\n",
       "    </tr>\n",
       "    <tr>\n",
       "      <th>3</th>\n",
       "      <td>Wilbur_E._Colyer</td>\n",
       "      <td>NaN</td>\n",
       "      <td>NaN</td>\n",
       "      <td>Stub</td>\n",
       "      <td>NaN</td>\n",
       "      <td>['biography'</td>\n",
       "      <td>'military history'</td>\n",
       "    </tr>\n",
       "    <tr>\n",
       "      <th>4</th>\n",
       "      <td>Salmson_B.9</td>\n",
       "      <td>NaN</td>\n",
       "      <td>NaN</td>\n",
       "      <td>Start</td>\n",
       "      <td>NaN</td>\n",
       "      <td>NaN</td>\n",
       "      <td>NaN</td>\n",
       "    </tr>\n",
       "  </tbody>\n",
       "</table>\n",
       "</div>"
      ],
      "text/plain": [
       "                                    Article Name Vital Article Level  Class  \\\n",
       "0  Population_history_of_ancient_Egypt_Archive_8           NaN   NaN    NaN   \n",
       "1                                Sin_Mirar_Atrás           NaN   NaN    NaN   \n",
       "2                                          RMWFC           NaN   NaN    NaN   \n",
       "3                               Wilbur_E._Colyer           NaN   NaN   Stub   \n",
       "4                                    Salmson_B.9           NaN   NaN  Start   \n",
       "\n",
       "  Importance         Topic         Wikiproject  \n",
       "0        NaN           NaN                 NaN  \n",
       "1        NaN           NaN                 NaN  \n",
       "2        NaN           NaN                 NaN  \n",
       "3        NaN  ['biography'  'military history'  \n",
       "4        NaN           NaN                 NaN  "
      ]
     },
     "execution_count": 49,
     "metadata": {},
     "output_type": "execute_result"
    }
   ],
   "source": [
    "df.head()"
   ]
  },
  {
   "cell_type": "code",
   "execution_count": 50,
   "id": "7a5d88d8",
   "metadata": {},
   "outputs": [
    {
     "data": {
      "text/plain": [
       "Article Name           2\n",
       "Vital Article    5712467\n",
       "Level            6093852\n",
       "Class            2142371\n",
       "Importance       5838602\n",
       "Topic            2171800\n",
       "Wikiproject      3662211\n",
       "dtype: int64"
      ]
     },
     "execution_count": 50,
     "metadata": {},
     "output_type": "execute_result"
    }
   ],
   "source": [
    "df.isnull().sum()"
   ]
  },
  {
   "cell_type": "code",
   "execution_count": 51,
   "id": "192fc2a0",
   "metadata": {},
   "outputs": [
    {
     "name": "stdout",
     "output_type": "stream",
     "text": [
      "<class 'pandas.core.frame.DataFrame'>\n",
      "RangeIndex: 6153251 entries, 0 to 6153250\n",
      "Data columns (total 7 columns):\n",
      " #   Column         Dtype \n",
      "---  ------         ----- \n",
      " 0   Article Name   object\n",
      " 1   Vital Article  object\n",
      " 2   Level          object\n",
      " 3   Class          object\n",
      " 4   Importance     object\n",
      " 5   Topic          object\n",
      " 6   Wikiproject    object\n",
      "dtypes: object(7)\n",
      "memory usage: 328.6+ MB\n"
     ]
    }
   ],
   "source": [
    "df.info()"
   ]
  },
  {
   "cell_type": "code",
   "execution_count": 52,
   "id": "355ba6e2",
   "metadata": {},
   "outputs": [
    {
     "data": {
      "text/html": [
       "<div>\n",
       "<style scoped>\n",
       "    .dataframe tbody tr th:only-of-type {\n",
       "        vertical-align: middle;\n",
       "    }\n",
       "\n",
       "    .dataframe tbody tr th {\n",
       "        vertical-align: top;\n",
       "    }\n",
       "\n",
       "    .dataframe thead th {\n",
       "        text-align: right;\n",
       "    }\n",
       "</style>\n",
       "<table border=\"1\" class=\"dataframe\">\n",
       "  <thead>\n",
       "    <tr style=\"text-align: right;\">\n",
       "      <th></th>\n",
       "      <th>Article Name</th>\n",
       "      <th>Vital Article</th>\n",
       "      <th>Level</th>\n",
       "      <th>Class</th>\n",
       "      <th>Importance</th>\n",
       "      <th>Topic</th>\n",
       "      <th>Wikiproject</th>\n",
       "    </tr>\n",
       "  </thead>\n",
       "  <tbody>\n",
       "    <tr>\n",
       "      <th>1118</th>\n",
       "      <td>History_of_biology</td>\n",
       "      <td>Yes</td>\n",
       "      <td>4</td>\n",
       "      <td>FA</td>\n",
       "      <td>History</td>\n",
       "      <td>['history of science'</td>\n",
       "      <td>'biology'</td>\n",
       "    </tr>\n",
       "    <tr>\n",
       "      <th>2394</th>\n",
       "      <td>Canberra</td>\n",
       "      <td>Yes</td>\n",
       "      <td>4</td>\n",
       "      <td>FA</td>\n",
       "      <td>Geography</td>\n",
       "      <td>['australia'</td>\n",
       "      <td>'cities']</td>\n",
       "    </tr>\n",
       "    <tr>\n",
       "      <th>2402</th>\n",
       "      <td>Edward_II_of_England</td>\n",
       "      <td>Yes</td>\n",
       "      <td>5</td>\n",
       "      <td>FA</td>\n",
       "      <td>People</td>\n",
       "      <td>['biography'</td>\n",
       "      <td>'military history'</td>\n",
       "    </tr>\n",
       "    <tr>\n",
       "      <th>2629</th>\n",
       "      <td>MTR</td>\n",
       "      <td>Yes</td>\n",
       "      <td>5</td>\n",
       "      <td>FA</td>\n",
       "      <td>Technology</td>\n",
       "      <td>[]</td>\n",
       "      <td>NaN</td>\n",
       "    </tr>\n",
       "    <tr>\n",
       "      <th>3078</th>\n",
       "      <td>CM_Punk</td>\n",
       "      <td>NaN</td>\n",
       "      <td>NaN</td>\n",
       "      <td>FA</td>\n",
       "      <td>NaN</td>\n",
       "      <td>['biography'</td>\n",
       "      <td>'professional wrestling'</td>\n",
       "    </tr>\n",
       "  </tbody>\n",
       "</table>\n",
       "</div>"
      ],
      "text/plain": [
       "              Article Name Vital Article Level Class  Importance  \\\n",
       "1118    History_of_biology           Yes     4    FA     History   \n",
       "2394              Canberra           Yes     4    FA   Geography   \n",
       "2402  Edward_II_of_England           Yes     5    FA      People   \n",
       "2629                   MTR           Yes     5    FA  Technology   \n",
       "3078               CM_Punk           NaN   NaN    FA         NaN   \n",
       "\n",
       "                      Topic               Wikiproject  \n",
       "1118  ['history of science'                 'biology'  \n",
       "2394           ['australia'                 'cities']  \n",
       "2402           ['biography'        'military history'  \n",
       "2629                     []                       NaN  \n",
       "3078           ['biography'  'professional wrestling'  "
      ]
     },
     "execution_count": 52,
     "metadata": {},
     "output_type": "execute_result"
    }
   ],
   "source": [
    "#extracting feature articles \n",
    "featured = df[df['Class'] == 'FA']\n",
    "featured.head()"
   ]
  },
  {
   "cell_type": "code",
   "execution_count": 53,
   "id": "f9122609",
   "metadata": {},
   "outputs": [
    {
     "name": "stdout",
     "output_type": "stream",
     "text": [
      "<class 'pandas.core.frame.DataFrame'>\n",
      "Int64Index: 5256 entries, 1118 to 6153112\n",
      "Data columns (total 7 columns):\n",
      " #   Column         Non-Null Count  Dtype \n",
      "---  ------         --------------  ----- \n",
      " 0   Article Name   5256 non-null   object\n",
      " 1   Vital Article  996 non-null    object\n",
      " 2   Level          996 non-null    object\n",
      " 3   Class          5256 non-null   object\n",
      " 4   Importance     996 non-null    object\n",
      " 5   Topic          4963 non-null   object\n",
      " 6   Wikiproject    4060 non-null   object\n",
      "dtypes: object(7)\n",
      "memory usage: 328.5+ KB\n"
     ]
    }
   ],
   "source": [
    "featured.info()"
   ]
  },
  {
   "cell_type": "code",
   "execution_count": 54,
   "id": "945c0941",
   "metadata": {},
   "outputs": [
    {
     "data": {
      "text/plain": [
       "0"
      ]
     },
     "execution_count": 54,
     "metadata": {},
     "output_type": "execute_result"
    }
   ],
   "source": [
    "featured['Class'].isnull().sum()"
   ]
  },
  {
   "cell_type": "code",
   "execution_count": 55,
   "id": "afd2cdda",
   "metadata": {},
   "outputs": [],
   "source": [
    "#Extracting Non Featured Articles\n",
    "non_featured = df[(df['Class'] != 'FA')]"
   ]
  },
  {
   "cell_type": "code",
   "execution_count": 56,
   "id": "ac988ef5",
   "metadata": {},
   "outputs": [
    {
     "name": "stdout",
     "output_type": "stream",
     "text": [
      "<class 'pandas.core.frame.DataFrame'>\n",
      "Int64Index: 23306 entries, 107 to 6152520\n",
      "Data columns (total 7 columns):\n",
      " #   Column         Non-Null Count  Dtype \n",
      "---  ------         --------------  ----- \n",
      " 0   Article Name   23306 non-null  object\n",
      " 1   Vital Article  23306 non-null  object\n",
      " 2   Level          23306 non-null  object\n",
      " 3   Class          23306 non-null  object\n",
      " 4   Importance     23306 non-null  object\n",
      " 5   Topic          23306 non-null  object\n",
      " 6   Wikiproject    23306 non-null  object\n",
      "dtypes: object(7)\n",
      "memory usage: 1.4+ MB\n"
     ]
    }
   ],
   "source": [
    "non_featured = non_featured.dropna()\n",
    "non_featured.info()"
   ]
  },
  {
   "cell_type": "code",
   "execution_count": 57,
   "id": "b6c121d3",
   "metadata": {},
   "outputs": [
    {
     "data": {
      "text/html": [
       "<div>\n",
       "<style scoped>\n",
       "    .dataframe tbody tr th:only-of-type {\n",
       "        vertical-align: middle;\n",
       "    }\n",
       "\n",
       "    .dataframe tbody tr th {\n",
       "        vertical-align: top;\n",
       "    }\n",
       "\n",
       "    .dataframe thead th {\n",
       "        text-align: right;\n",
       "    }\n",
       "</style>\n",
       "<table border=\"1\" class=\"dataframe\">\n",
       "  <thead>\n",
       "    <tr style=\"text-align: right;\">\n",
       "      <th></th>\n",
       "      <th>Article Name</th>\n",
       "      <th>Vital Article</th>\n",
       "      <th>Level</th>\n",
       "      <th>Class</th>\n",
       "      <th>Importance</th>\n",
       "      <th>Topic</th>\n",
       "      <th>Wikiproject</th>\n",
       "    </tr>\n",
       "  </thead>\n",
       "  <tbody>\n",
       "    <tr>\n",
       "      <th>107</th>\n",
       "      <td>Siege_of_Baghdad_(1258)</td>\n",
       "      <td>Yes</td>\n",
       "      <td>5</td>\n",
       "      <td>C</td>\n",
       "      <td>History</td>\n",
       "      <td>['iraq'</td>\n",
       "      <td>'mongols']</td>\n",
       "    </tr>\n",
       "    <tr>\n",
       "      <th>348</th>\n",
       "      <td>West_Midlands_(county)</td>\n",
       "      <td>Yes</td>\n",
       "      <td>5</td>\n",
       "      <td>Start</td>\n",
       "      <td>Geography</td>\n",
       "      <td>['uk geography'</td>\n",
       "      <td>'england'</td>\n",
       "    </tr>\n",
       "    <tr>\n",
       "      <th>818</th>\n",
       "      <td>Kurbat_Ivanov</td>\n",
       "      <td>Yes</td>\n",
       "      <td>5</td>\n",
       "      <td>Start</td>\n",
       "      <td>People</td>\n",
       "      <td>['biography'</td>\n",
       "      <td>'russia'</td>\n",
       "    </tr>\n",
       "    <tr>\n",
       "      <th>912</th>\n",
       "      <td>Orson_Scott_Card</td>\n",
       "      <td>Yes</td>\n",
       "      <td>5</td>\n",
       "      <td>B</td>\n",
       "      <td>People</td>\n",
       "      <td>['banner shell'</td>\n",
       "      <td>'biography'</td>\n",
       "    </tr>\n",
       "    <tr>\n",
       "      <th>1249</th>\n",
       "      <td>Tench</td>\n",
       "      <td>Yes</td>\n",
       "      <td>5</td>\n",
       "      <td>Start</td>\n",
       "      <td>Biology</td>\n",
       "      <td>['fishes'</td>\n",
       "      <td>'aquarium fishes'</td>\n",
       "    </tr>\n",
       "  </tbody>\n",
       "</table>\n",
       "</div>"
      ],
      "text/plain": [
       "                 Article Name Vital Article Level  Class Importance  \\\n",
       "107   Siege_of_Baghdad_(1258)           Yes     5      C    History   \n",
       "348    West_Midlands_(county)           Yes     5  Start  Geography   \n",
       "818             Kurbat_Ivanov           Yes     5  Start     People   \n",
       "912          Orson_Scott_Card           Yes     5      B     People   \n",
       "1249                    Tench           Yes     5  Start    Biology   \n",
       "\n",
       "                Topic        Wikiproject  \n",
       "107           ['iraq'         'mongols']  \n",
       "348   ['uk geography'          'england'  \n",
       "818      ['biography'           'russia'  \n",
       "912   ['banner shell'        'biography'  \n",
       "1249        ['fishes'  'aquarium fishes'  "
      ]
     },
     "execution_count": 57,
     "metadata": {},
     "output_type": "execute_result"
    }
   ],
   "source": [
    "non_featured.head()"
   ]
  },
  {
   "cell_type": "markdown",
   "id": "984271d3",
   "metadata": {},
   "source": [
    "## Feature engineering"
   ]
  },
  {
   "cell_type": "markdown",
   "id": "2d60ccc1",
   "metadata": {},
   "source": [
    "#### Extracting New Features For Featured Articles  "
   ]
  },
  {
   "cell_type": "markdown",
   "id": "e22cfd74",
   "metadata": {},
   "source": [
    "**Refer https://pypi.org/project/Wikipedia-API/ for more information regarding wikipedia api sytax**"
   ]
  },
  {
   "cell_type": "code",
   "execution_count": 58,
   "id": "47ca66cf",
   "metadata": {},
   "outputs": [],
   "source": [
    "links = []\n",
    "catogories = []\n",
    "text_len = []\n",
    "back_links = []\n",
    "titles = []\n",
    "sections = []\n",
    "lang_links = [] "
   ]
  },
  {
   "cell_type": "code",
   "execution_count": null,
   "id": "a61ced2a",
   "metadata": {},
   "outputs": [],
   "source": [
    "def extractor(article):\n",
    "    for i in article:\n",
    "        page_py = wk_en.page(i)\n",
    "        text_len.append(len(page_py.text))\n",
    "        links.append(len(page_py.links))\n",
    "        catogories.append(len(page_py.categories))\n",
    "        back_links.append(len(page_py.backlinks))\n",
    "        titles.append(len(page_py.title))\n",
    "        sections.append(len(page_py.sections))\n",
    "        lang_links.append(len(page_py.langlinks))\n",
    "    \n",
    "extractor(featured['Article Name'])"
   ]
  },
  {
   "cell_type": "code",
   "execution_count": null,
   "id": "2b360867",
   "metadata": {},
   "outputs": [],
   "source": [
    "linkx = pd.Series(links)\n",
    "catogoriesx = pd.Series(carogories)\n",
    "text_lenx = pd.Series(text_len)\n",
    "back_linksx = pd.Series(back_links)\n",
    "titlesx = pd.Series(sectionx)\n",
    "sectionx = pd.Series(section)\n",
    "lang_linksx = pd.Series(lang_links)"
   ]
  },
  {
   "cell_type": "code",
   "execution_count": null,
   "id": "7f733454",
   "metadata": {},
   "outputs": [],
   "source": [
    "featured['links'] = linksx\n",
    "featured['catogories'] = catogoriesx\n",
    "featured['text_len'] = text_lenx\n",
    "featured['back_links'] = back_linksx\n",
    "featured['titles'] = titlesx\n",
    "featured['sections'] = sectionsx\n",
    "featured['lang_links'] = lang_linksx"
   ]
  },
  {
   "cell_type": "code",
   "execution_count": null,
   "id": "6fd314dc",
   "metadata": {},
   "outputs": [],
   "source": [
    "# Assigning value 1 for Featured class\n",
    "featured['class'] = 1"
   ]
  },
  {
   "cell_type": "code",
   "execution_count": null,
   "id": "3a8b086b",
   "metadata": {},
   "outputs": [],
   "source": [
    "featured.to_csv('FEATURED.csv')"
   ]
  },
  {
   "cell_type": "markdown",
   "id": "e42fdac6",
   "metadata": {},
   "source": [
    "#### Extracting New Features For Non_Featured Articles  "
   ]
  },
  {
   "cell_type": "code",
   "execution_count": null,
   "id": "0c66e259",
   "metadata": {},
   "outputs": [],
   "source": [
    "df = non_featured.sample(n=5000,random_state=0)"
   ]
  },
  {
   "cell_type": "code",
   "execution_count": null,
   "id": "7cdd8c28",
   "metadata": {},
   "outputs": [],
   "source": [
    "df = non_featured.sample(n=5000,random_state=0)"
   ]
  },
  {
   "cell_type": "code",
   "execution_count": null,
   "id": "caacd56f",
   "metadata": {},
   "outputs": [],
   "source": [
    "df['Article Name'].count()"
   ]
  },
  {
   "cell_type": "code",
   "execution_count": null,
   "id": "072d1a55",
   "metadata": {},
   "outputs": [],
   "source": [
    "df['Article Name'].isnull().sum()"
   ]
  },
  {
   "cell_type": "code",
   "execution_count": null,
   "id": "e7ce69e0",
   "metadata": {},
   "outputs": [],
   "source": [
    "links = []\n",
    "catogories = []\n",
    "text_len = []\n",
    "back_links = []\n",
    "titles = []\n",
    "sections = []\n",
    "lang_links = [] # dont run this cell"
   ]
  },
  {
   "cell_type": "code",
   "execution_count": null,
   "id": "013e66c7",
   "metadata": {},
   "outputs": [],
   "source": [
    "def extractor(article):\n",
    "    for i in article:\n",
    "        page_py = wk_en.page(i)\n",
    "        text_len.append(len(page_py.text))\n",
    "        links.append(len(page_py.links))\n",
    "        catogories.append(len(page_py.categories))\n",
    "        back_links.append(len(page_py.backlinks))\n",
    "        titles.append(len(page_py.title))\n",
    "        sections.append(len(page_py.sections))\n",
    "        lang_links.append(len(page_py.langlinks))\n",
    "    \n",
    "extractor(df['Article Name'])"
   ]
  },
  {
   "cell_type": "code",
   "execution_count": null,
   "id": "eddd80f8",
   "metadata": {},
   "outputs": [],
   "source": [
    "linkx = pd.Series(links)\n",
    "catogoriesx = pd.Series(carogories)\n",
    "text_lenx = pd.Series(text_len)\n",
    "back_linksx = pd.Series(back_links)\n",
    "titlesx = pd.Series(sectionx)\n",
    "sectionx = pd.Series(section)\n",
    "lang_linksx = pd.Series(lang_links)"
   ]
  },
  {
   "cell_type": "code",
   "execution_count": null,
   "id": "bdda2384",
   "metadata": {},
   "outputs": [],
   "source": [
    "df['links'] = linksx\n",
    "df['catogories'] = catogoriesx\n",
    "df['text_len'] = text_lenx\n",
    "df['back_links'] = back_linksx\n",
    "df['titles'] = titlesx\n",
    "df['sections'] = sectionsx\n",
    "df['lang_links'] = lang_linksx"
   ]
  },
  {
   "cell_type": "code",
   "execution_count": null,
   "id": "c89d1f89",
   "metadata": {},
   "outputs": [],
   "source": [
    "# Assigning value 0 for non Featured class\n",
    "df['class'] = 0"
   ]
  },
  {
   "cell_type": "code",
   "execution_count": null,
   "id": "9023c5cc",
   "metadata": {},
   "outputs": [],
   "source": [
    "df = pd.read_csv('nonfeatured.csv')\n",
    "df"
   ]
  },
  {
   "cell_type": "markdown",
   "id": "2737b368",
   "metadata": {},
   "source": [
    "## Final Data"
   ]
  },
  {
   "cell_type": "code",
   "execution_count": null,
   "id": "4c325f27",
   "metadata": {},
   "outputs": [],
   "source": [
    "dff = pd.read_csv('FEATURED1.csv')\n",
    "dfnf =  pd.read_csv('nonfeatured.csv')"
   ]
  },
  {
   "cell_type": "code",
   "execution_count": 2,
   "id": "a14445cc",
   "metadata": {},
   "outputs": [
    {
     "data": {
      "text/html": [
       "<div>\n",
       "<style scoped>\n",
       "    .dataframe tbody tr th:only-of-type {\n",
       "        vertical-align: middle;\n",
       "    }\n",
       "\n",
       "    .dataframe tbody tr th {\n",
       "        vertical-align: top;\n",
       "    }\n",
       "\n",
       "    .dataframe thead th {\n",
       "        text-align: right;\n",
       "    }\n",
       "</style>\n",
       "<table border=\"1\" class=\"dataframe\">\n",
       "  <thead>\n",
       "    <tr style=\"text-align: right;\">\n",
       "      <th></th>\n",
       "      <th>text_lenght</th>\n",
       "      <th>links</th>\n",
       "      <th>lang_links</th>\n",
       "      <th>titles</th>\n",
       "      <th>sections</th>\n",
       "      <th>back_links</th>\n",
       "      <th>categories</th>\n",
       "      <th>class</th>\n",
       "    </tr>\n",
       "  </thead>\n",
       "  <tbody>\n",
       "    <tr>\n",
       "      <th>0</th>\n",
       "      <td>6238</td>\n",
       "      <td>38</td>\n",
       "      <td>6</td>\n",
       "      <td>22</td>\n",
       "      <td>4</td>\n",
       "      <td>26</td>\n",
       "      <td>22</td>\n",
       "      <td>1</td>\n",
       "    </tr>\n",
       "    <tr>\n",
       "      <th>1</th>\n",
       "      <td>2188</td>\n",
       "      <td>39</td>\n",
       "      <td>1</td>\n",
       "      <td>18</td>\n",
       "      <td>5</td>\n",
       "      <td>0</td>\n",
       "      <td>14</td>\n",
       "      <td>1</td>\n",
       "    </tr>\n",
       "    <tr>\n",
       "      <th>2</th>\n",
       "      <td>2589</td>\n",
       "      <td>19</td>\n",
       "      <td>0</td>\n",
       "      <td>17</td>\n",
       "      <td>2</td>\n",
       "      <td>15</td>\n",
       "      <td>14</td>\n",
       "      <td>1</td>\n",
       "    </tr>\n",
       "    <tr>\n",
       "      <th>3</th>\n",
       "      <td>1490</td>\n",
       "      <td>47</td>\n",
       "      <td>4</td>\n",
       "      <td>10</td>\n",
       "      <td>3</td>\n",
       "      <td>16</td>\n",
       "      <td>4</td>\n",
       "      <td>1</td>\n",
       "    </tr>\n",
       "    <tr>\n",
       "      <th>4</th>\n",
       "      <td>1012</td>\n",
       "      <td>71</td>\n",
       "      <td>24</td>\n",
       "      <td>19</td>\n",
       "      <td>2</td>\n",
       "      <td>52</td>\n",
       "      <td>9</td>\n",
       "      <td>1</td>\n",
       "    </tr>\n",
       "  </tbody>\n",
       "</table>\n",
       "</div>"
      ],
      "text/plain": [
       "   text_lenght  links  lang_links  titles  sections  back_links  categories  \\\n",
       "0         6238     38           6      22         4          26          22   \n",
       "1         2188     39           1      18         5           0          14   \n",
       "2         2589     19           0      17         2          15          14   \n",
       "3         1490     47           4      10         3          16           4   \n",
       "4         1012     71          24      19         2          52           9   \n",
       "\n",
       "   class  \n",
       "0      1  \n",
       "1      1  \n",
       "2      1  \n",
       "3      1  \n",
       "4      1  "
      ]
     },
     "execution_count": 2,
     "metadata": {},
     "output_type": "execute_result"
    }
   ],
   "source": [
    "df = pd.read_csv('final_data.csv')\n",
    "df = df.iloc[:,1:]\n",
    "df.head()"
   ]
  },
  {
   "cell_type": "code",
   "execution_count": null,
   "id": "b2a4e40c",
   "metadata": {},
   "outputs": [],
   "source": [
    "df = pd.concat(dff,dfnf)"
   ]
  },
  {
   "cell_type": "code",
   "execution_count": null,
   "id": "7e6cb2bc",
   "metadata": {},
   "outputs": [],
   "source": [
    "df.to_csv('final_data.csv')"
   ]
  },
  {
   "cell_type": "markdown",
   "id": "c5711d99",
   "metadata": {},
   "source": [
    "### Data Cleaning / Data Preprocessing"
   ]
  },
  {
   "cell_type": "code",
   "execution_count": 75,
   "id": "afba624b",
   "metadata": {},
   "outputs": [],
   "source": [
    "df = pd.read_csv('final_data.csv')"
   ]
  },
  {
   "cell_type": "code",
   "execution_count": 76,
   "id": "ba87ee69",
   "metadata": {},
   "outputs": [
    {
     "data": {
      "text/html": [
       "<div>\n",
       "<style scoped>\n",
       "    .dataframe tbody tr th:only-of-type {\n",
       "        vertical-align: middle;\n",
       "    }\n",
       "\n",
       "    .dataframe tbody tr th {\n",
       "        vertical-align: top;\n",
       "    }\n",
       "\n",
       "    .dataframe thead th {\n",
       "        text-align: right;\n",
       "    }\n",
       "</style>\n",
       "<table border=\"1\" class=\"dataframe\">\n",
       "  <thead>\n",
       "    <tr style=\"text-align: right;\">\n",
       "      <th></th>\n",
       "      <th>text_lenght</th>\n",
       "      <th>links</th>\n",
       "      <th>lang_links</th>\n",
       "      <th>titles</th>\n",
       "      <th>sections</th>\n",
       "      <th>back_links</th>\n",
       "      <th>categories</th>\n",
       "      <th>class</th>\n",
       "    </tr>\n",
       "  </thead>\n",
       "  <tbody>\n",
       "    <tr>\n",
       "      <th>0</th>\n",
       "      <td>6238</td>\n",
       "      <td>38</td>\n",
       "      <td>6</td>\n",
       "      <td>22</td>\n",
       "      <td>4</td>\n",
       "      <td>26</td>\n",
       "      <td>22</td>\n",
       "      <td>1</td>\n",
       "    </tr>\n",
       "    <tr>\n",
       "      <th>1</th>\n",
       "      <td>2188</td>\n",
       "      <td>39</td>\n",
       "      <td>1</td>\n",
       "      <td>18</td>\n",
       "      <td>5</td>\n",
       "      <td>0</td>\n",
       "      <td>14</td>\n",
       "      <td>1</td>\n",
       "    </tr>\n",
       "    <tr>\n",
       "      <th>2</th>\n",
       "      <td>2589</td>\n",
       "      <td>19</td>\n",
       "      <td>0</td>\n",
       "      <td>17</td>\n",
       "      <td>2</td>\n",
       "      <td>15</td>\n",
       "      <td>14</td>\n",
       "      <td>1</td>\n",
       "    </tr>\n",
       "    <tr>\n",
       "      <th>3</th>\n",
       "      <td>1490</td>\n",
       "      <td>47</td>\n",
       "      <td>4</td>\n",
       "      <td>10</td>\n",
       "      <td>3</td>\n",
       "      <td>16</td>\n",
       "      <td>4</td>\n",
       "      <td>1</td>\n",
       "    </tr>\n",
       "    <tr>\n",
       "      <th>4</th>\n",
       "      <td>1012</td>\n",
       "      <td>71</td>\n",
       "      <td>24</td>\n",
       "      <td>19</td>\n",
       "      <td>2</td>\n",
       "      <td>52</td>\n",
       "      <td>9</td>\n",
       "      <td>1</td>\n",
       "    </tr>\n",
       "    <tr>\n",
       "      <th>...</th>\n",
       "      <td>...</td>\n",
       "      <td>...</td>\n",
       "      <td>...</td>\n",
       "      <td>...</td>\n",
       "      <td>...</td>\n",
       "      <td>...</td>\n",
       "      <td>...</td>\n",
       "      <td>...</td>\n",
       "    </tr>\n",
       "    <tr>\n",
       "      <th>10251</th>\n",
       "      <td>3305</td>\n",
       "      <td>842</td>\n",
       "      <td>94</td>\n",
       "      <td>16</td>\n",
       "      <td>12</td>\n",
       "      <td>4451</td>\n",
       "      <td>39</td>\n",
       "      <td>0</td>\n",
       "    </tr>\n",
       "    <tr>\n",
       "      <th>10252</th>\n",
       "      <td>3194</td>\n",
       "      <td>262</td>\n",
       "      <td>4</td>\n",
       "      <td>15</td>\n",
       "      <td>12</td>\n",
       "      <td>173</td>\n",
       "      <td>12</td>\n",
       "      <td>0</td>\n",
       "    </tr>\n",
       "    <tr>\n",
       "      <th>10253</th>\n",
       "      <td>3194</td>\n",
       "      <td>280</td>\n",
       "      <td>1</td>\n",
       "      <td>36</td>\n",
       "      <td>9</td>\n",
       "      <td>184</td>\n",
       "      <td>7</td>\n",
       "      <td>0</td>\n",
       "    </tr>\n",
       "    <tr>\n",
       "      <th>10254</th>\n",
       "      <td>3194</td>\n",
       "      <td>262</td>\n",
       "      <td>11</td>\n",
       "      <td>19</td>\n",
       "      <td>10</td>\n",
       "      <td>188</td>\n",
       "      <td>48</td>\n",
       "      <td>0</td>\n",
       "    </tr>\n",
       "    <tr>\n",
       "      <th>10255</th>\n",
       "      <td>3305</td>\n",
       "      <td>853</td>\n",
       "      <td>63</td>\n",
       "      <td>10</td>\n",
       "      <td>11</td>\n",
       "      <td>1245</td>\n",
       "      <td>50</td>\n",
       "      <td>0</td>\n",
       "    </tr>\n",
       "  </tbody>\n",
       "</table>\n",
       "<p>10256 rows × 8 columns</p>\n",
       "</div>"
      ],
      "text/plain": [
       "       text_lenght  links  lang_links  titles  sections  back_links  \\\n",
       "0             6238     38           6      22         4          26   \n",
       "1             2188     39           1      18         5           0   \n",
       "2             2589     19           0      17         2          15   \n",
       "3             1490     47           4      10         3          16   \n",
       "4             1012     71          24      19         2          52   \n",
       "...            ...    ...         ...     ...       ...         ...   \n",
       "10251         3305    842          94      16        12        4451   \n",
       "10252         3194    262           4      15        12         173   \n",
       "10253         3194    280           1      36         9         184   \n",
       "10254         3194    262          11      19        10         188   \n",
       "10255         3305    853          63      10        11        1245   \n",
       "\n",
       "       categories  class  \n",
       "0              22      1  \n",
       "1              14      1  \n",
       "2              14      1  \n",
       "3               4      1  \n",
       "4               9      1  \n",
       "...           ...    ...  \n",
       "10251          39      0  \n",
       "10252          12      0  \n",
       "10253           7      0  \n",
       "10254          48      0  \n",
       "10255          50      0  \n",
       "\n",
       "[10256 rows x 8 columns]"
      ]
     },
     "execution_count": 76,
     "metadata": {},
     "output_type": "execute_result"
    }
   ],
   "source": [
    "df = df.iloc[:,1:]\n",
    "df"
   ]
  },
  {
   "cell_type": "code",
   "execution_count": 77,
   "id": "065a0db4",
   "metadata": {},
   "outputs": [
    {
     "data": {
      "text/plain": [
       "text_lenght    0\n",
       "links          0\n",
       "lang_links     0\n",
       "titles         0\n",
       "sections       0\n",
       "back_links     0\n",
       "categories     0\n",
       "class          0\n",
       "dtype: int64"
      ]
     },
     "execution_count": 77,
     "metadata": {},
     "output_type": "execute_result"
    }
   ],
   "source": [
    "#checking for null values\n",
    "df.isnull().sum()"
   ]
  },
  {
   "cell_type": "code",
   "execution_count": 78,
   "id": "a5b98a19",
   "metadata": {},
   "outputs": [
    {
     "data": {
      "text/plain": [
       "178"
      ]
     },
     "execution_count": 78,
     "metadata": {},
     "output_type": "execute_result"
    }
   ],
   "source": [
    "#handling duplicate values\n",
    "df.duplicated().sum()"
   ]
  },
  {
   "cell_type": "code",
   "execution_count": 79,
   "id": "1ababc4b",
   "metadata": {},
   "outputs": [],
   "source": [
    "df.drop_duplicates(inplace=True)"
   ]
  },
  {
   "cell_type": "code",
   "execution_count": 80,
   "id": "8f936112",
   "metadata": {},
   "outputs": [
    {
     "data": {
      "text/plain": [
       "0"
      ]
     },
     "execution_count": 80,
     "metadata": {},
     "output_type": "execute_result"
    }
   ],
   "source": [
    "df.duplicated().sum()"
   ]
  },
  {
   "cell_type": "code",
   "execution_count": 81,
   "id": "821bab31",
   "metadata": {},
   "outputs": [
    {
     "name": "stdout",
     "output_type": "stream",
     "text": [
      "<class 'pandas.core.frame.DataFrame'>\n",
      "Int64Index: 10078 entries, 0 to 10255\n",
      "Data columns (total 8 columns):\n",
      " #   Column       Non-Null Count  Dtype\n",
      "---  ------       --------------  -----\n",
      " 0   text_lenght  10078 non-null  int64\n",
      " 1   links        10078 non-null  int64\n",
      " 2   lang_links   10078 non-null  int64\n",
      " 3   titles       10078 non-null  int64\n",
      " 4   sections     10078 non-null  int64\n",
      " 5   back_links   10078 non-null  int64\n",
      " 6   categories   10078 non-null  int64\n",
      " 7   class        10078 non-null  int64\n",
      "dtypes: int64(8)\n",
      "memory usage: 708.6 KB\n"
     ]
    }
   ],
   "source": [
    "#checking data structure of the DF\n",
    "df.info()"
   ]
  },
  {
   "cell_type": "code",
   "execution_count": 82,
   "id": "5207aa89",
   "metadata": {},
   "outputs": [
    {
     "data": {
      "text/html": [
       "<div>\n",
       "<style scoped>\n",
       "    .dataframe tbody tr th:only-of-type {\n",
       "        vertical-align: middle;\n",
       "    }\n",
       "\n",
       "    .dataframe tbody tr th {\n",
       "        vertical-align: top;\n",
       "    }\n",
       "\n",
       "    .dataframe thead th {\n",
       "        text-align: right;\n",
       "    }\n",
       "</style>\n",
       "<table border=\"1\" class=\"dataframe\">\n",
       "  <thead>\n",
       "    <tr style=\"text-align: right;\">\n",
       "      <th></th>\n",
       "      <th>text_lenght</th>\n",
       "      <th>links</th>\n",
       "      <th>lang_links</th>\n",
       "      <th>titles</th>\n",
       "      <th>sections</th>\n",
       "      <th>back_links</th>\n",
       "      <th>categories</th>\n",
       "      <th>class</th>\n",
       "    </tr>\n",
       "  </thead>\n",
       "  <tbody>\n",
       "    <tr>\n",
       "      <th>count</th>\n",
       "      <td>10078.000000</td>\n",
       "      <td>10078.000000</td>\n",
       "      <td>10078.000000</td>\n",
       "      <td>10078.000000</td>\n",
       "      <td>10078.000000</td>\n",
       "      <td>10078.000000</td>\n",
       "      <td>10078.000000</td>\n",
       "      <td>10078.000000</td>\n",
       "    </tr>\n",
       "    <tr>\n",
       "      <th>mean</th>\n",
       "      <td>12861.211451</td>\n",
       "      <td>254.417642</td>\n",
       "      <td>17.998412</td>\n",
       "      <td>19.068764</td>\n",
       "      <td>6.470232</td>\n",
       "      <td>924.906231</td>\n",
       "      <td>19.724747</td>\n",
       "      <td>0.478964</td>\n",
       "    </tr>\n",
       "    <tr>\n",
       "      <th>std</th>\n",
       "      <td>17533.378748</td>\n",
       "      <td>294.989253</td>\n",
       "      <td>30.529780</td>\n",
       "      <td>10.082656</td>\n",
       "      <td>4.327775</td>\n",
       "      <td>11926.675124</td>\n",
       "      <td>16.657411</td>\n",
       "      <td>0.499582</td>\n",
       "    </tr>\n",
       "    <tr>\n",
       "      <th>min</th>\n",
       "      <td>0.000000</td>\n",
       "      <td>0.000000</td>\n",
       "      <td>0.000000</td>\n",
       "      <td>2.000000</td>\n",
       "      <td>0.000000</td>\n",
       "      <td>0.000000</td>\n",
       "      <td>0.000000</td>\n",
       "      <td>0.000000</td>\n",
       "    </tr>\n",
       "    <tr>\n",
       "      <th>25%</th>\n",
       "      <td>1634.500000</td>\n",
       "      <td>56.000000</td>\n",
       "      <td>2.000000</td>\n",
       "      <td>12.000000</td>\n",
       "      <td>3.000000</td>\n",
       "      <td>19.000000</td>\n",
       "      <td>9.000000</td>\n",
       "      <td>0.000000</td>\n",
       "    </tr>\n",
       "    <tr>\n",
       "      <th>50%</th>\n",
       "      <td>3305.000000</td>\n",
       "      <td>164.000000</td>\n",
       "      <td>7.000000</td>\n",
       "      <td>17.000000</td>\n",
       "      <td>6.000000</td>\n",
       "      <td>154.000000</td>\n",
       "      <td>15.000000</td>\n",
       "      <td>0.000000</td>\n",
       "    </tr>\n",
       "    <tr>\n",
       "      <th>75%</th>\n",
       "      <td>18998.750000</td>\n",
       "      <td>334.000000</td>\n",
       "      <td>20.000000</td>\n",
       "      <td>24.000000</td>\n",
       "      <td>9.000000</td>\n",
       "      <td>403.750000</td>\n",
       "      <td>24.000000</td>\n",
       "      <td>1.000000</td>\n",
       "    </tr>\n",
       "    <tr>\n",
       "      <th>max</th>\n",
       "      <td>132606.000000</td>\n",
       "      <td>2761.000000</td>\n",
       "      <td>312.000000</td>\n",
       "      <td>95.000000</td>\n",
       "      <td>107.000000</td>\n",
       "      <td>678427.000000</td>\n",
       "      <td>180.000000</td>\n",
       "      <td>1.000000</td>\n",
       "    </tr>\n",
       "  </tbody>\n",
       "</table>\n",
       "</div>"
      ],
      "text/plain": [
       "         text_lenght         links    lang_links        titles      sections  \\\n",
       "count   10078.000000  10078.000000  10078.000000  10078.000000  10078.000000   \n",
       "mean    12861.211451    254.417642     17.998412     19.068764      6.470232   \n",
       "std     17533.378748    294.989253     30.529780     10.082656      4.327775   \n",
       "min         0.000000      0.000000      0.000000      2.000000      0.000000   \n",
       "25%      1634.500000     56.000000      2.000000     12.000000      3.000000   \n",
       "50%      3305.000000    164.000000      7.000000     17.000000      6.000000   \n",
       "75%     18998.750000    334.000000     20.000000     24.000000      9.000000   \n",
       "max    132606.000000   2761.000000    312.000000     95.000000    107.000000   \n",
       "\n",
       "          back_links    categories         class  \n",
       "count   10078.000000  10078.000000  10078.000000  \n",
       "mean      924.906231     19.724747      0.478964  \n",
       "std     11926.675124     16.657411      0.499582  \n",
       "min         0.000000      0.000000      0.000000  \n",
       "25%        19.000000      9.000000      0.000000  \n",
       "50%       154.000000     15.000000      0.000000  \n",
       "75%       403.750000     24.000000      1.000000  \n",
       "max    678427.000000    180.000000      1.000000  "
      ]
     },
     "execution_count": 82,
     "metadata": {},
     "output_type": "execute_result"
    }
   ],
   "source": [
    "df.describe()"
   ]
  },
  {
   "cell_type": "code",
   "execution_count": 83,
   "id": "e135e9b0",
   "metadata": {},
   "outputs": [
    {
     "data": {
      "text/html": [
       "<div>\n",
       "<style scoped>\n",
       "    .dataframe tbody tr th:only-of-type {\n",
       "        vertical-align: middle;\n",
       "    }\n",
       "\n",
       "    .dataframe tbody tr th {\n",
       "        vertical-align: top;\n",
       "    }\n",
       "\n",
       "    .dataframe thead th {\n",
       "        text-align: right;\n",
       "    }\n",
       "</style>\n",
       "<table border=\"1\" class=\"dataframe\">\n",
       "  <thead>\n",
       "    <tr style=\"text-align: right;\">\n",
       "      <th></th>\n",
       "      <th>text_lenght</th>\n",
       "      <th>links</th>\n",
       "      <th>lang_links</th>\n",
       "      <th>titles</th>\n",
       "      <th>sections</th>\n",
       "      <th>back_links</th>\n",
       "      <th>categories</th>\n",
       "      <th>class</th>\n",
       "    </tr>\n",
       "  </thead>\n",
       "  <tbody>\n",
       "    <tr>\n",
       "      <th>text_lenght</th>\n",
       "      <td>1.000000</td>\n",
       "      <td>0.518021</td>\n",
       "      <td>0.428108</td>\n",
       "      <td>-0.044594</td>\n",
       "      <td>0.512592</td>\n",
       "      <td>0.107673</td>\n",
       "      <td>0.449865</td>\n",
       "      <td>-0.459124</td>\n",
       "    </tr>\n",
       "    <tr>\n",
       "      <th>links</th>\n",
       "      <td>0.518021</td>\n",
       "      <td>1.000000</td>\n",
       "      <td>0.639433</td>\n",
       "      <td>-0.056606</td>\n",
       "      <td>0.544486</td>\n",
       "      <td>0.189182</td>\n",
       "      <td>0.561756</td>\n",
       "      <td>-0.399087</td>\n",
       "    </tr>\n",
       "    <tr>\n",
       "      <th>lang_links</th>\n",
       "      <td>0.428108</td>\n",
       "      <td>0.639433</td>\n",
       "      <td>1.000000</td>\n",
       "      <td>-0.233006</td>\n",
       "      <td>0.443066</td>\n",
       "      <td>0.323072</td>\n",
       "      <td>0.576077</td>\n",
       "      <td>-0.346882</td>\n",
       "    </tr>\n",
       "    <tr>\n",
       "      <th>titles</th>\n",
       "      <td>-0.044594</td>\n",
       "      <td>-0.056606</td>\n",
       "      <td>-0.233006</td>\n",
       "      <td>1.000000</td>\n",
       "      <td>-0.016165</td>\n",
       "      <td>-0.043112</td>\n",
       "      <td>-0.152247</td>\n",
       "      <td>0.034183</td>\n",
       "    </tr>\n",
       "    <tr>\n",
       "      <th>sections</th>\n",
       "      <td>0.512592</td>\n",
       "      <td>0.544486</td>\n",
       "      <td>0.443066</td>\n",
       "      <td>-0.016165</td>\n",
       "      <td>1.000000</td>\n",
       "      <td>0.098231</td>\n",
       "      <td>0.484156</td>\n",
       "      <td>-0.562935</td>\n",
       "    </tr>\n",
       "    <tr>\n",
       "      <th>back_links</th>\n",
       "      <td>0.107673</td>\n",
       "      <td>0.189182</td>\n",
       "      <td>0.323072</td>\n",
       "      <td>-0.043112</td>\n",
       "      <td>0.098231</td>\n",
       "      <td>1.000000</td>\n",
       "      <td>0.120841</td>\n",
       "      <td>-0.064249</td>\n",
       "    </tr>\n",
       "    <tr>\n",
       "      <th>categories</th>\n",
       "      <td>0.449865</td>\n",
       "      <td>0.561756</td>\n",
       "      <td>0.576077</td>\n",
       "      <td>-0.152247</td>\n",
       "      <td>0.484156</td>\n",
       "      <td>0.120841</td>\n",
       "      <td>1.000000</td>\n",
       "      <td>-0.405880</td>\n",
       "    </tr>\n",
       "    <tr>\n",
       "      <th>class</th>\n",
       "      <td>-0.459124</td>\n",
       "      <td>-0.399087</td>\n",
       "      <td>-0.346882</td>\n",
       "      <td>0.034183</td>\n",
       "      <td>-0.562935</td>\n",
       "      <td>-0.064249</td>\n",
       "      <td>-0.405880</td>\n",
       "      <td>1.000000</td>\n",
       "    </tr>\n",
       "  </tbody>\n",
       "</table>\n",
       "</div>"
      ],
      "text/plain": [
       "             text_lenght     links  lang_links    titles  sections  \\\n",
       "text_lenght     1.000000  0.518021    0.428108 -0.044594  0.512592   \n",
       "links           0.518021  1.000000    0.639433 -0.056606  0.544486   \n",
       "lang_links      0.428108  0.639433    1.000000 -0.233006  0.443066   \n",
       "titles         -0.044594 -0.056606   -0.233006  1.000000 -0.016165   \n",
       "sections        0.512592  0.544486    0.443066 -0.016165  1.000000   \n",
       "back_links      0.107673  0.189182    0.323072 -0.043112  0.098231   \n",
       "categories      0.449865  0.561756    0.576077 -0.152247  0.484156   \n",
       "class          -0.459124 -0.399087   -0.346882  0.034183 -0.562935   \n",
       "\n",
       "             back_links  categories     class  \n",
       "text_lenght    0.107673    0.449865 -0.459124  \n",
       "links          0.189182    0.561756 -0.399087  \n",
       "lang_links     0.323072    0.576077 -0.346882  \n",
       "titles        -0.043112   -0.152247  0.034183  \n",
       "sections       0.098231    0.484156 -0.562935  \n",
       "back_links     1.000000    0.120841 -0.064249  \n",
       "categories     0.120841    1.000000 -0.405880  \n",
       "class         -0.064249   -0.405880  1.000000  "
      ]
     },
     "execution_count": 83,
     "metadata": {},
     "output_type": "execute_result"
    }
   ],
   "source": [
    "df.corr()"
   ]
  },
  {
   "cell_type": "markdown",
   "id": "d2915aff",
   "metadata": {},
   "source": [
    "### EDA"
   ]
  },
  {
   "cell_type": "code",
   "execution_count": 84,
   "id": "a6169791",
   "metadata": {},
   "outputs": [
    {
     "data": {
      "image/png": "[encoded data removed]",
      "text/plain": [
       "<Figure size 640x480 with 1 Axes>"
      ]
     },
     "metadata": {},
     "output_type": "display_data"
    }
   ],
   "source": [
    "#checking for data imbalance\n",
    "x = df['class'].value_counts().to_list()\n",
    "plt.pie(x,labels=['non_featured','featured'],autopct='%1.1f%%')\n",
    "plt.title(\"Total Share Of Featured and Non featured Class\")\n",
    "plt.show()"
   ]
  },
  {
   "cell_type": "markdown",
   "id": "9ce15d3c",
   "metadata": {},
   "source": [
    "#### Seperating the feature and non-featured class"
   ]
  },
  {
   "cell_type": "code",
   "execution_count": 85,
   "id": "c041eecd",
   "metadata": {
    "scrolled": true
   },
   "outputs": [
    {
     "data": {
      "text/html": [
       "<div>\n",
       "<style scoped>\n",
       "    .dataframe tbody tr th:only-of-type {\n",
       "        vertical-align: middle;\n",
       "    }\n",
       "\n",
       "    .dataframe tbody tr th {\n",
       "        vertical-align: top;\n",
       "    }\n",
       "\n",
       "    .dataframe thead th {\n",
       "        text-align: right;\n",
       "    }\n",
       "</style>\n",
       "<table border=\"1\" class=\"dataframe\">\n",
       "  <thead>\n",
       "    <tr style=\"text-align: right;\">\n",
       "      <th></th>\n",
       "      <th>text_lenght</th>\n",
       "      <th>links</th>\n",
       "      <th>lang_links</th>\n",
       "      <th>titles</th>\n",
       "      <th>sections</th>\n",
       "      <th>back_links</th>\n",
       "      <th>categories</th>\n",
       "      <th>class</th>\n",
       "    </tr>\n",
       "  </thead>\n",
       "  <tbody>\n",
       "    <tr>\n",
       "      <th>0</th>\n",
       "      <td>6238</td>\n",
       "      <td>38</td>\n",
       "      <td>6</td>\n",
       "      <td>22</td>\n",
       "      <td>4</td>\n",
       "      <td>26</td>\n",
       "      <td>22</td>\n",
       "      <td>1</td>\n",
       "    </tr>\n",
       "    <tr>\n",
       "      <th>1</th>\n",
       "      <td>2188</td>\n",
       "      <td>39</td>\n",
       "      <td>1</td>\n",
       "      <td>18</td>\n",
       "      <td>5</td>\n",
       "      <td>0</td>\n",
       "      <td>14</td>\n",
       "      <td>1</td>\n",
       "    </tr>\n",
       "    <tr>\n",
       "      <th>2</th>\n",
       "      <td>2589</td>\n",
       "      <td>19</td>\n",
       "      <td>0</td>\n",
       "      <td>17</td>\n",
       "      <td>2</td>\n",
       "      <td>15</td>\n",
       "      <td>14</td>\n",
       "      <td>1</td>\n",
       "    </tr>\n",
       "    <tr>\n",
       "      <th>3</th>\n",
       "      <td>1490</td>\n",
       "      <td>47</td>\n",
       "      <td>4</td>\n",
       "      <td>10</td>\n",
       "      <td>3</td>\n",
       "      <td>16</td>\n",
       "      <td>4</td>\n",
       "      <td>1</td>\n",
       "    </tr>\n",
       "    <tr>\n",
       "      <th>4</th>\n",
       "      <td>1012</td>\n",
       "      <td>71</td>\n",
       "      <td>24</td>\n",
       "      <td>19</td>\n",
       "      <td>2</td>\n",
       "      <td>52</td>\n",
       "      <td>9</td>\n",
       "      <td>1</td>\n",
       "    </tr>\n",
       "  </tbody>\n",
       "</table>\n",
       "</div>"
      ],
      "text/plain": [
       "   text_lenght  links  lang_links  titles  sections  back_links  categories  \\\n",
       "0         6238     38           6      22         4          26          22   \n",
       "1         2188     39           1      18         5           0          14   \n",
       "2         2589     19           0      17         2          15          14   \n",
       "3         1490     47           4      10         3          16           4   \n",
       "4         1012     71          24      19         2          52           9   \n",
       "\n",
       "   class  \n",
       "0      1  \n",
       "1      1  \n",
       "2      1  \n",
       "3      1  \n",
       "4      1  "
      ]
     },
     "execution_count": 85,
     "metadata": {},
     "output_type": "execute_result"
    }
   ],
   "source": [
    "featured = df[df['class'] == 1]\n",
    "featured.head()"
   ]
  },
  {
   "cell_type": "code",
   "execution_count": 86,
   "id": "d00d2159",
   "metadata": {},
   "outputs": [
    {
     "data": {
      "text/html": [
       "<div>\n",
       "<style scoped>\n",
       "    .dataframe tbody tr th:only-of-type {\n",
       "        vertical-align: middle;\n",
       "    }\n",
       "\n",
       "    .dataframe tbody tr th {\n",
       "        vertical-align: top;\n",
       "    }\n",
       "\n",
       "    .dataframe thead th {\n",
       "        text-align: right;\n",
       "    }\n",
       "</style>\n",
       "<table border=\"1\" class=\"dataframe\">\n",
       "  <thead>\n",
       "    <tr style=\"text-align: right;\">\n",
       "      <th></th>\n",
       "      <th>text_lenght</th>\n",
       "      <th>links</th>\n",
       "      <th>lang_links</th>\n",
       "      <th>titles</th>\n",
       "      <th>sections</th>\n",
       "      <th>back_links</th>\n",
       "      <th>categories</th>\n",
       "      <th>class</th>\n",
       "    </tr>\n",
       "  </thead>\n",
       "  <tbody>\n",
       "    <tr>\n",
       "      <th>5000</th>\n",
       "      <td>49899</td>\n",
       "      <td>849</td>\n",
       "      <td>38</td>\n",
       "      <td>18</td>\n",
       "      <td>13</td>\n",
       "      <td>871</td>\n",
       "      <td>10</td>\n",
       "      <td>0</td>\n",
       "    </tr>\n",
       "    <tr>\n",
       "      <th>5001</th>\n",
       "      <td>62765</td>\n",
       "      <td>820</td>\n",
       "      <td>175</td>\n",
       "      <td>8</td>\n",
       "      <td>13</td>\n",
       "      <td>11139</td>\n",
       "      <td>46</td>\n",
       "      <td>0</td>\n",
       "    </tr>\n",
       "    <tr>\n",
       "      <th>5002</th>\n",
       "      <td>74416</td>\n",
       "      <td>536</td>\n",
       "      <td>68</td>\n",
       "      <td>20</td>\n",
       "      <td>16</td>\n",
       "      <td>2321</td>\n",
       "      <td>49</td>\n",
       "      <td>0</td>\n",
       "    </tr>\n",
       "    <tr>\n",
       "      <th>5003</th>\n",
       "      <td>59747</td>\n",
       "      <td>839</td>\n",
       "      <td>39</td>\n",
       "      <td>3</td>\n",
       "      <td>13</td>\n",
       "      <td>2435</td>\n",
       "      <td>36</td>\n",
       "      <td>0</td>\n",
       "    </tr>\n",
       "    <tr>\n",
       "      <th>5004</th>\n",
       "      <td>65100</td>\n",
       "      <td>1278</td>\n",
       "      <td>42</td>\n",
       "      <td>7</td>\n",
       "      <td>11</td>\n",
       "      <td>3446</td>\n",
       "      <td>57</td>\n",
       "      <td>0</td>\n",
       "    </tr>\n",
       "  </tbody>\n",
       "</table>\n",
       "</div>"
      ],
      "text/plain": [
       "      text_lenght  links  lang_links  titles  sections  back_links  \\\n",
       "5000        49899    849          38      18        13         871   \n",
       "5001        62765    820         175       8        13       11139   \n",
       "5002        74416    536          68      20        16        2321   \n",
       "5003        59747    839          39       3        13        2435   \n",
       "5004        65100   1278          42       7        11        3446   \n",
       "\n",
       "      categories  class  \n",
       "5000          10      0  \n",
       "5001          46      0  \n",
       "5002          49      0  \n",
       "5003          36      0  \n",
       "5004          57      0  "
      ]
     },
     "execution_count": 86,
     "metadata": {},
     "output_type": "execute_result"
    }
   ],
   "source": [
    "non_featured = df[df['class'] == 0]\n",
    "non_featured.head()"
   ]
  },
  {
   "cell_type": "code",
   "execution_count": 87,
   "id": "f9ed7bc8",
   "metadata": {},
   "outputs": [
    {
     "data": {
      "text/html": [
       "<div>\n",
       "<style scoped>\n",
       "    .dataframe tbody tr th:only-of-type {\n",
       "        vertical-align: middle;\n",
       "    }\n",
       "\n",
       "    .dataframe tbody tr th {\n",
       "        vertical-align: top;\n",
       "    }\n",
       "\n",
       "    .dataframe thead th {\n",
       "        text-align: right;\n",
       "    }\n",
       "</style>\n",
       "<table border=\"1\" class=\"dataframe\">\n",
       "  <thead>\n",
       "    <tr style=\"text-align: right;\">\n",
       "      <th></th>\n",
       "      <th>text_lenght</th>\n",
       "      <th>links</th>\n",
       "      <th>lang_links</th>\n",
       "      <th>titles</th>\n",
       "      <th>sections</th>\n",
       "      <th>back_links</th>\n",
       "      <th>categories</th>\n",
       "      <th>class</th>\n",
       "    </tr>\n",
       "  </thead>\n",
       "  <tbody>\n",
       "    <tr>\n",
       "      <th>text_lenght</th>\n",
       "      <td>1.000000</td>\n",
       "      <td>0.513839</td>\n",
       "      <td>0.475569</td>\n",
       "      <td>0.004400</td>\n",
       "      <td>0.507788</td>\n",
       "      <td>0.124448</td>\n",
       "      <td>0.392120</td>\n",
       "      <td>NaN</td>\n",
       "    </tr>\n",
       "    <tr>\n",
       "      <th>links</th>\n",
       "      <td>0.513839</td>\n",
       "      <td>1.000000</td>\n",
       "      <td>0.449485</td>\n",
       "      <td>0.096401</td>\n",
       "      <td>0.413046</td>\n",
       "      <td>0.175033</td>\n",
       "      <td>0.323013</td>\n",
       "      <td>NaN</td>\n",
       "    </tr>\n",
       "    <tr>\n",
       "      <th>lang_links</th>\n",
       "      <td>0.475569</td>\n",
       "      <td>0.449485</td>\n",
       "      <td>1.000000</td>\n",
       "      <td>-0.151169</td>\n",
       "      <td>0.289573</td>\n",
       "      <td>0.275343</td>\n",
       "      <td>0.448867</td>\n",
       "      <td>NaN</td>\n",
       "    </tr>\n",
       "    <tr>\n",
       "      <th>titles</th>\n",
       "      <td>0.004400</td>\n",
       "      <td>0.096401</td>\n",
       "      <td>-0.151169</td>\n",
       "      <td>1.000000</td>\n",
       "      <td>0.086301</td>\n",
       "      <td>-0.011621</td>\n",
       "      <td>-0.068897</td>\n",
       "      <td>NaN</td>\n",
       "    </tr>\n",
       "    <tr>\n",
       "      <th>sections</th>\n",
       "      <td>0.507788</td>\n",
       "      <td>0.413046</td>\n",
       "      <td>0.289573</td>\n",
       "      <td>0.086301</td>\n",
       "      <td>1.000000</td>\n",
       "      <td>0.196789</td>\n",
       "      <td>0.316592</td>\n",
       "      <td>NaN</td>\n",
       "    </tr>\n",
       "    <tr>\n",
       "      <th>back_links</th>\n",
       "      <td>0.124448</td>\n",
       "      <td>0.175033</td>\n",
       "      <td>0.275343</td>\n",
       "      <td>-0.011621</td>\n",
       "      <td>0.196789</td>\n",
       "      <td>1.000000</td>\n",
       "      <td>0.103931</td>\n",
       "      <td>NaN</td>\n",
       "    </tr>\n",
       "    <tr>\n",
       "      <th>categories</th>\n",
       "      <td>0.392120</td>\n",
       "      <td>0.323013</td>\n",
       "      <td>0.448867</td>\n",
       "      <td>-0.068897</td>\n",
       "      <td>0.316592</td>\n",
       "      <td>0.103931</td>\n",
       "      <td>1.000000</td>\n",
       "      <td>NaN</td>\n",
       "    </tr>\n",
       "    <tr>\n",
       "      <th>class</th>\n",
       "      <td>NaN</td>\n",
       "      <td>NaN</td>\n",
       "      <td>NaN</td>\n",
       "      <td>NaN</td>\n",
       "      <td>NaN</td>\n",
       "      <td>NaN</td>\n",
       "      <td>NaN</td>\n",
       "      <td>NaN</td>\n",
       "    </tr>\n",
       "  </tbody>\n",
       "</table>\n",
       "</div>"
      ],
      "text/plain": [
       "             text_lenght     links  lang_links    titles  sections  \\\n",
       "text_lenght     1.000000  0.513839    0.475569  0.004400  0.507788   \n",
       "links           0.513839  1.000000    0.449485  0.096401  0.413046   \n",
       "lang_links      0.475569  0.449485    1.000000 -0.151169  0.289573   \n",
       "titles          0.004400  0.096401   -0.151169  1.000000  0.086301   \n",
       "sections        0.507788  0.413046    0.289573  0.086301  1.000000   \n",
       "back_links      0.124448  0.175033    0.275343 -0.011621  0.196789   \n",
       "categories      0.392120  0.323013    0.448867 -0.068897  0.316592   \n",
       "class                NaN       NaN         NaN       NaN       NaN   \n",
       "\n",
       "             back_links  categories  class  \n",
       "text_lenght    0.124448    0.392120    NaN  \n",
       "links          0.175033    0.323013    NaN  \n",
       "lang_links     0.275343    0.448867    NaN  \n",
       "titles        -0.011621   -0.068897    NaN  \n",
       "sections       0.196789    0.316592    NaN  \n",
       "back_links     1.000000    0.103931    NaN  \n",
       "categories     0.103931    1.000000    NaN  \n",
       "class               NaN         NaN    NaN  "
      ]
     },
     "execution_count": 87,
     "metadata": {},
     "output_type": "execute_result"
    }
   ],
   "source": [
    "featured.corr()"
   ]
  },
  {
   "cell_type": "code",
   "execution_count": 88,
   "id": "2e941b97",
   "metadata": {},
   "outputs": [
    {
     "data": {
      "text/html": [
       "<div>\n",
       "<style scoped>\n",
       "    .dataframe tbody tr th:only-of-type {\n",
       "        vertical-align: middle;\n",
       "    }\n",
       "\n",
       "    .dataframe tbody tr th {\n",
       "        vertical-align: top;\n",
       "    }\n",
       "\n",
       "    .dataframe thead th {\n",
       "        text-align: right;\n",
       "    }\n",
       "</style>\n",
       "<table border=\"1\" class=\"dataframe\">\n",
       "  <thead>\n",
       "    <tr style=\"text-align: right;\">\n",
       "      <th></th>\n",
       "      <th>text_lenght</th>\n",
       "      <th>links</th>\n",
       "      <th>lang_links</th>\n",
       "      <th>titles</th>\n",
       "      <th>sections</th>\n",
       "      <th>back_links</th>\n",
       "      <th>categories</th>\n",
       "      <th>class</th>\n",
       "    </tr>\n",
       "  </thead>\n",
       "  <tbody>\n",
       "    <tr>\n",
       "      <th>text_lenght</th>\n",
       "      <td>1.000000</td>\n",
       "      <td>0.385035</td>\n",
       "      <td>0.296911</td>\n",
       "      <td>-0.056890</td>\n",
       "      <td>0.320044</td>\n",
       "      <td>0.093249</td>\n",
       "      <td>0.309709</td>\n",
       "      <td>NaN</td>\n",
       "    </tr>\n",
       "    <tr>\n",
       "      <th>links</th>\n",
       "      <td>0.385035</td>\n",
       "      <td>1.000000</td>\n",
       "      <td>0.624818</td>\n",
       "      <td>-0.149516</td>\n",
       "      <td>0.488151</td>\n",
       "      <td>0.201394</td>\n",
       "      <td>0.524020</td>\n",
       "      <td>NaN</td>\n",
       "    </tr>\n",
       "    <tr>\n",
       "      <th>lang_links</th>\n",
       "      <td>0.296911</td>\n",
       "      <td>0.624818</td>\n",
       "      <td>1.000000</td>\n",
       "      <td>-0.317758</td>\n",
       "      <td>0.422583</td>\n",
       "      <td>0.336602</td>\n",
       "      <td>0.520198</td>\n",
       "      <td>NaN</td>\n",
       "    </tr>\n",
       "    <tr>\n",
       "      <th>titles</th>\n",
       "      <td>-0.056890</td>\n",
       "      <td>-0.149516</td>\n",
       "      <td>-0.317758</td>\n",
       "      <td>1.000000</td>\n",
       "      <td>-0.121290</td>\n",
       "      <td>-0.061475</td>\n",
       "      <td>-0.217196</td>\n",
       "      <td>NaN</td>\n",
       "    </tr>\n",
       "    <tr>\n",
       "      <th>sections</th>\n",
       "      <td>0.320044</td>\n",
       "      <td>0.488151</td>\n",
       "      <td>0.422583</td>\n",
       "      <td>-0.121290</td>\n",
       "      <td>1.000000</td>\n",
       "      <td>0.105813</td>\n",
       "      <td>0.423498</td>\n",
       "      <td>NaN</td>\n",
       "    </tr>\n",
       "    <tr>\n",
       "      <th>back_links</th>\n",
       "      <td>0.093249</td>\n",
       "      <td>0.201394</td>\n",
       "      <td>0.336602</td>\n",
       "      <td>-0.061475</td>\n",
       "      <td>0.105813</td>\n",
       "      <td>1.000000</td>\n",
       "      <td>0.111526</td>\n",
       "      <td>NaN</td>\n",
       "    </tr>\n",
       "    <tr>\n",
       "      <th>categories</th>\n",
       "      <td>0.309709</td>\n",
       "      <td>0.524020</td>\n",
       "      <td>0.520198</td>\n",
       "      <td>-0.217196</td>\n",
       "      <td>0.423498</td>\n",
       "      <td>0.111526</td>\n",
       "      <td>1.000000</td>\n",
       "      <td>NaN</td>\n",
       "    </tr>\n",
       "    <tr>\n",
       "      <th>class</th>\n",
       "      <td>NaN</td>\n",
       "      <td>NaN</td>\n",
       "      <td>NaN</td>\n",
       "      <td>NaN</td>\n",
       "      <td>NaN</td>\n",
       "      <td>NaN</td>\n",
       "      <td>NaN</td>\n",
       "      <td>NaN</td>\n",
       "    </tr>\n",
       "  </tbody>\n",
       "</table>\n",
       "</div>"
      ],
      "text/plain": [
       "             text_lenght     links  lang_links    titles  sections  \\\n",
       "text_lenght     1.000000  0.385035    0.296911 -0.056890  0.320044   \n",
       "links           0.385035  1.000000    0.624818 -0.149516  0.488151   \n",
       "lang_links      0.296911  0.624818    1.000000 -0.317758  0.422583   \n",
       "titles         -0.056890 -0.149516   -0.317758  1.000000 -0.121290   \n",
       "sections        0.320044  0.488151    0.422583 -0.121290  1.000000   \n",
       "back_links      0.093249  0.201394    0.336602 -0.061475  0.105813   \n",
       "categories      0.309709  0.524020    0.520198 -0.217196  0.423498   \n",
       "class                NaN       NaN         NaN       NaN       NaN   \n",
       "\n",
       "             back_links  categories  class  \n",
       "text_lenght    0.093249    0.309709    NaN  \n",
       "links          0.201394    0.524020    NaN  \n",
       "lang_links     0.336602    0.520198    NaN  \n",
       "titles        -0.061475   -0.217196    NaN  \n",
       "sections       0.105813    0.423498    NaN  \n",
       "back_links     1.000000    0.111526    NaN  \n",
       "categories     0.111526    1.000000    NaN  \n",
       "class               NaN         NaN    NaN  "
      ]
     },
     "execution_count": 88,
     "metadata": {},
     "output_type": "execute_result"
    }
   ],
   "source": [
    "non_featured.corr()"
   ]
  },
  {
   "cell_type": "markdown",
   "id": "f32c7145",
   "metadata": {},
   "source": [
    "## Model"
   ]
  },
  {
   "cell_type": "markdown",
   "id": "1c4732c9",
   "metadata": {},
   "source": [
    "#### Spliting the features and target"
   ]
  },
  {
   "cell_type": "code",
   "execution_count": 89,
   "id": "ac8a26ba",
   "metadata": {},
   "outputs": [],
   "source": [
    "x = df.iloc[:,:-1].values\n",
    "y = df.iloc[:,-1].values"
   ]
  },
  {
   "cell_type": "code",
   "execution_count": 90,
   "id": "2cb53f7b",
   "metadata": {},
   "outputs": [
    {
     "data": {
      "text/plain": [
       "array([[6238,   38,    6, ...,    4,   26,   22],\n",
       "       [2188,   39,    1, ...,    5,    0,   14],\n",
       "       [2589,   19,    0, ...,    2,   15,   14],\n",
       "       ...,\n",
       "       [3194,  280,    1, ...,    9,  184,    7],\n",
       "       [3194,  262,   11, ...,   10,  188,   48],\n",
       "       [3305,  853,   63, ...,   11, 1245,   50]], dtype=int64)"
      ]
     },
     "execution_count": 90,
     "metadata": {},
     "output_type": "execute_result"
    }
   ],
   "source": [
    "x"
   ]
  },
  {
   "cell_type": "code",
   "execution_count": 91,
   "id": "dde86586",
   "metadata": {},
   "outputs": [],
   "source": [
    "feature_name = df.columns.values[:-1]"
   ]
  },
  {
   "cell_type": "code",
   "execution_count": 92,
   "id": "3ff0749b",
   "metadata": {},
   "outputs": [],
   "source": [
    "X_train, X_test, y_train, y_test = train_test_split(x, y, test_size = 0.2, random_state = 0)"
   ]
  },
  {
   "cell_type": "markdown",
   "id": "93a067ab",
   "metadata": {},
   "source": [
    "#### Scaling the features"
   ]
  },
  {
   "cell_type": "markdown",
   "id": "5f4905fd",
   "metadata": {},
   "source": [
    " **Scaling the data is a good habit because**\n",
    "  * Improves Model Convergence\n",
    "  * Prevents Numeric Instability\n",
    "  * Improves Regularization"
   ]
  },
  {
   "cell_type": "code",
   "execution_count": 93,
   "id": "35b056ee",
   "metadata": {},
   "outputs": [],
   "source": [
    "from sklearn.preprocessing import StandardScaler\n",
    "sc = StandardScaler()\n",
    "X_train = sc.fit_transform(X_train)\n",
    "X_test = sc.transform(X_test)"
   ]
  },
  {
   "cell_type": "markdown",
   "id": "9c58ee62",
   "metadata": {},
   "source": [
    "#### Logistic Regression"
   ]
  },
  {
   "cell_type": "code",
   "execution_count": 94,
   "id": "be814255",
   "metadata": {},
   "outputs": [],
   "source": [
    "from sklearn.linear_model import LogisticRegression\n",
    "from sklearn.svm import SVC  #it is must to scale data for svm models"
   ]
  },
  {
   "cell_type": "code",
   "execution_count": 95,
   "id": "d660fc16",
   "metadata": {},
   "outputs": [],
   "source": [
    "model = LogisticRegression(random_state = 0)"
   ]
  },
  {
   "cell_type": "code",
   "execution_count": 96,
   "id": "3fe57fe8",
   "metadata": {},
   "outputs": [
    {
     "data": {
      "text/plain": [
       "0.8253968253968254"
      ]
     },
     "execution_count": 96,
     "metadata": {},
     "output_type": "execute_result"
    }
   ],
   "source": [
    "model.fit(X_train,y_train)\n",
    "preds = model.predict(X_test)\n",
    "acc = accuracy_score(y_test,model.predict(X_test))\n",
    "acc"
   ]
  },
  {
   "cell_type": "markdown",
   "id": "07234d32",
   "metadata": {},
   "source": [
    "#### SVM"
   ]
  },
  {
   "cell_type": "markdown",
   "id": "001c4a9c",
   "metadata": {},
   "source": [
    "**SVM (Support Vector Machine) is a powerful machine learning algorithm used for classification and regression problems. One of the strengths of SVM is that it can handle high-dimensional data efficiently. However, understanding which features are important for the SVM model can be challenging, especially if the number of features is large.**"
   ]
  },
  {
   "cell_type": "code",
   "execution_count": 97,
   "id": "5a96a241",
   "metadata": {},
   "outputs": [],
   "source": [
    "model = SVC(kernel = 'linear', random_state = 0,probability=True)"
   ]
  },
  {
   "cell_type": "code",
   "execution_count": 98,
   "id": "8e18d6eb",
   "metadata": {},
   "outputs": [],
   "source": [
    "model.fit(X_train,y_train)\n",
    "preds = model.predict(X_test)"
   ]
  },
  {
   "cell_type": "code",
   "execution_count": 99,
   "id": "cf6e780f",
   "metadata": {},
   "outputs": [
    {
     "data": {
      "text/plain": [
       "0.8432539682539683"
      ]
     },
     "execution_count": 99,
     "metadata": {},
     "output_type": "execute_result"
    }
   ],
   "source": [
    "acc = accuracy_score(y_test,model.predict(X_test))\n",
    "acc"
   ]
  },
  {
   "cell_type": "markdown",
   "id": "ef047948",
   "metadata": {},
   "source": [
    "**In linear SVM models, the coefficients of the decision function can be used to determine the importance of the corresponding features. The magnitude of each coefficient indicates the degree to which the corresponding feature contributes to the classification decision. You can retrieve the coefficients of the linear SVM model using the coef_ attribute. You can then rank the features based on their absolute coefficient values to determine their importance.**"
   ]
  },
  {
   "cell_type": "code",
   "execution_count": 100,
   "id": "f1a01efc",
   "metadata": {},
   "outputs": [],
   "source": [
    "coef = model.coef_[0]\n",
    "feature_names = np.array(feature_name)\n",
    "\n",
    "# Rank features based on absolute coefficient values\n",
    "feature_importance = abs(coef)\n",
    "sorted_idx = np.argsort(feature_importance)[::-1]\n",
    "ranked_features = feature_names[sorted_idx]"
   ]
  },
  {
   "cell_type": "code",
   "execution_count": 101,
   "id": "fb1fda10",
   "metadata": {
    "scrolled": true
   },
   "outputs": [
    {
     "data": {
      "text/plain": [
       "array(['back_links', 'sections', 'text_lenght', 'lang_links',\n",
       "       'categories', 'links', 'titles'], dtype=object)"
      ]
     },
     "execution_count": 101,
     "metadata": {},
     "output_type": "execute_result"
    }
   ],
   "source": [
    "ranked_features"
   ]
  },
  {
   "cell_type": "markdown",
   "id": "d97952f2",
   "metadata": {},
   "source": [
    "#### Random Forest Classifier"
   ]
  },
  {
   "cell_type": "code",
   "execution_count": 102,
   "id": "1b02740a",
   "metadata": {},
   "outputs": [],
   "source": [
    "from sklearn.ensemble import RandomForestClassifier"
   ]
  },
  {
   "cell_type": "code",
   "execution_count": 103,
   "id": "712271ed",
   "metadata": {},
   "outputs": [
    {
     "name": "stdout",
     "output_type": "stream",
     "text": [
      "n_estimators: 80 AUROC: 0.9894344485201112\n",
      "n_estimators: 90 AUROC: 0.9901642146787251\n",
      "n_estimators: 100 AUROC: 0.9899972133506199\n",
      "n_estimators: 110 AUROC: 0.9902338809132304\n",
      "n_estimators: 120 AUROC: 0.9903559203453074\n",
      "n_estimators: 130 AUROC: 0.9904305274475083\n",
      "n_estimators: 140 AUROC: 0.990634585283329\n",
      "n_estimators: 150 AUROC: 0.9906439729319505\n",
      "n_estimators: 160 AUROC: 0.9906701595307362\n",
      "n_estimators: 170 AUROC: 0.9906118572919301\n",
      "n_estimators: 180 AUROC: 0.9905748007842144\n",
      "n_estimators: 190 AUROC: 0.9904557258727549\n",
      "n_estimators: 200 AUROC: 0.9904315156210473\n"
     ]
    }
   ],
   "source": [
    "for k in range(80,210,10):\n",
    "    model = RandomForestClassifier(n_estimators =k, criterion = 'entropy', random_state = 0)\n",
    "    model.fit(X_train,y_train)\n",
    "    preds = model.predict(X_test)\n",
    "    print('n_estimators:',k,'AUROC:',roc_auc_score(y_test,model.predict_proba(X_test)[:,1]))"
   ]
  },
  {
   "cell_type": "code",
   "execution_count": 104,
   "id": "efbaca28",
   "metadata": {},
   "outputs": [],
   "source": [
    " model = RandomForestClassifier(n_estimators =160, criterion = 'entropy', random_state = 0)"
   ]
  },
  {
   "cell_type": "code",
   "execution_count": 105,
   "id": "61df48bf",
   "metadata": {},
   "outputs": [],
   "source": [
    "model.fit(X_train,y_train)\n",
    "preds = model.predict(X_test)"
   ]
  },
  {
   "cell_type": "code",
   "execution_count": 106,
   "id": "c053e9e0",
   "metadata": {},
   "outputs": [
    {
     "data": {
      "text/plain": [
       "0.9637896825396826"
      ]
     },
     "execution_count": 106,
     "metadata": {},
     "output_type": "execute_result"
    }
   ],
   "source": [
    "acc = accuracy_score(y_test,model.predict(X_test))\n",
    "acc"
   ]
  },
  {
   "cell_type": "markdown",
   "id": "6d683ebe",
   "metadata": {},
   "source": [
    "#### XGB"
   ]
  },
  {
   "cell_type": "code",
   "execution_count": 107,
   "id": "679e414d",
   "metadata": {},
   "outputs": [],
   "source": [
    "import xgboost as xgb"
   ]
  },
  {
   "cell_type": "code",
   "execution_count": 108,
   "id": "05a6749f",
   "metadata": {},
   "outputs": [
    {
     "name": "stdout",
     "output_type": "stream",
     "text": [
      "Learning rate :  0.01 AUROC 0.9863666637680242\n",
      "Learning rate :  0.02 AUROC 0.9875855758284846\n",
      "Learning rate :  0.03 AUROC 0.9897956259486467\n",
      "Learning rate :  0.04 AUROC 0.9906543487541107\n",
      "Learning rate :  0.05 AUROC 0.9902526562104729\n",
      "Learning rate :  0.06 AUROC 0.9896029321085251\n",
      "Learning rate :  0.07 AUROC 0.9902116470086011\n",
      "Learning rate :  0.08 AUROC 0.9893301962117379\n",
      "Learning rate :  0.09 AUROC 0.9881779858651659\n",
      "Learning rate :  0.1 AUROC 0.9896721042562611\n",
      "Learning rate :  0.11 AUROC 0.9896622225208702\n",
      "Learning rate :  0.12 AUROC 0.9897452290981532\n",
      "Learning rate :  0.13 AUROC 0.9909493185555275\n",
      "Learning rate :  0.14 AUROC 0.9893934393182393\n",
      "Learning rate :  0.15 AUROC 0.9906988165633697\n",
      "Learning rate :  0.2 AUROC 0.9885520095497091\n",
      "Learning rate :  0.5 AUROC 0.985271767486719\n",
      "Learning rate :  0.7 AUROC 0.9856665428155831\n",
      "Learning rate :  1 AUROC 0.9754083133063495\n"
     ]
    }
   ],
   "source": [
    "for lr in [0.01,0.02,0.03,0.04,0.05,0.06,0.07,0.08,0.09,0.1,0.11,0.12,0.13,0.14,0.15,0.2,0.5,0.7,1]:\n",
    "    model = xgb.XGBRegressor(learning_rate = lr, n_estimators=100, verbosity = 0) # initialise the model\n",
    "    model.fit(X_train,y_train) #train the model\n",
    "    print(\"Learning rate : \", lr,\"AUROC\",roc_auc_score(y_test,model.predict(X_test)))"
   ]
  },
  {
   "cell_type": "code",
   "execution_count": 109,
   "id": "310422bf",
   "metadata": {},
   "outputs": [],
   "source": [
    "model = xgb.XGBRegressor(learning_rate = 0.04, n_estimators=100, verbosity = 0)"
   ]
  },
  {
   "cell_type": "code",
   "execution_count": 110,
   "id": "30681931",
   "metadata": {},
   "outputs": [
    {
     "data": {
      "text/html": [
       "<style>#sk-container-id-2 {color: black;background-color: white;}#sk-container-id-2 pre{padding: 0;}#sk-container-id-2 div.sk-toggleable {background-color: white;}#sk-container-id-2 label.sk-toggleable__label {cursor: pointer;display: block;width: 100%;margin-bottom: 0;padding: 0.3em;box-sizing: border-box;text-align: center;}#sk-container-id-2 label.sk-toggleable__label-arrow:before {content: \"▸\";float: left;margin-right: 0.25em;color: #696969;}#sk-container-id-2 label.sk-toggleable__label-arrow:hover:before {color: black;}#sk-container-id-2 div.sk-estimator:hover label.sk-toggleable__label-arrow:before {color: black;}#sk-container-id-2 div.sk-toggleable__content {max-height: 0;max-width: 0;overflow: hidden;text-align: left;background-color: #f0f8ff;}#sk-container-id-2 div.sk-toggleable__content pre {margin: 0.2em;color: black;border-radius: 0.25em;background-color: #f0f8ff;}#sk-container-id-2 input.sk-toggleable__control:checked~div.sk-toggleable__content {max-height: 200px;max-width: 100%;overflow: auto;}#sk-container-id-2 input.sk-toggleable__control:checked~label.sk-toggleable__label-arrow:before {content: \"▾\";}#sk-container-id-2 div.sk-estimator input.sk-toggleable__control:checked~label.sk-toggleable__label {background-color: #d4ebff;}#sk-container-id-2 div.sk-label input.sk-toggleable__control:checked~label.sk-toggleable__label {background-color: #d4ebff;}#sk-container-id-2 input.sk-hidden--visually {border: 0;clip: rect(1px 1px 1px 1px);clip: rect(1px, 1px, 1px, 1px);height: 1px;margin: -1px;overflow: hidden;padding: 0;position: absolute;width: 1px;}#sk-container-id-2 div.sk-estimator {font-family: monospace;background-color: #f0f8ff;border: 1px dotted black;border-radius: 0.25em;box-sizing: border-box;margin-bottom: 0.5em;}#sk-container-id-2 div.sk-estimator:hover {background-color: #d4ebff;}#sk-container-id-2 div.sk-parallel-item::after {content: \"\";width: 100%;border-bottom: 1px solid gray;flex-grow: 1;}#sk-container-id-2 div.sk-label:hover label.sk-toggleable__label {background-color: #d4ebff;}#sk-container-id-2 div.sk-serial::before {content: \"\";position: absolute;border-left: 1px solid gray;box-sizing: border-box;top: 0;bottom: 0;left: 50%;z-index: 0;}#sk-container-id-2 div.sk-serial {display: flex;flex-direction: column;align-items: center;background-color: white;padding-right: 0.2em;padding-left: 0.2em;position: relative;}#sk-container-id-2 div.sk-item {position: relative;z-index: 1;}#sk-container-id-2 div.sk-parallel {display: flex;align-items: stretch;justify-content: center;background-color: white;position: relative;}#sk-container-id-2 div.sk-item::before, #sk-container-id-2 div.sk-parallel-item::before {content: \"\";position: absolute;border-left: 1px solid gray;box-sizing: border-box;top: 0;bottom: 0;left: 50%;z-index: -1;}#sk-container-id-2 div.sk-parallel-item {display: flex;flex-direction: column;z-index: 1;position: relative;background-color: white;}#sk-container-id-2 div.sk-parallel-item:first-child::after {align-self: flex-end;width: 50%;}#sk-container-id-2 div.sk-parallel-item:last-child::after {align-self: flex-start;width: 50%;}#sk-container-id-2 div.sk-parallel-item:only-child::after {width: 0;}#sk-container-id-2 div.sk-dashed-wrapped {border: 1px dashed gray;margin: 0 0.4em 0.5em 0.4em;box-sizing: border-box;padding-bottom: 0.4em;background-color: white;}#sk-container-id-2 div.sk-label label {font-family: monospace;font-weight: bold;display: inline-block;line-height: 1.2em;}#sk-container-id-2 div.sk-label-container {text-align: center;}#sk-container-id-2 div.sk-container {/* jupyter's `normalize.less` sets `[hidden] { display: none; }` but bootstrap.min.css set `[hidden] { display: none !important; }` so we also need the `!important` here to be able to override the default hidden behavior on the sphinx rendered scikit-learn.org. See: https://github.com/scikit-learn/scikit-learn/issues/21755 */display: inline-block !important;position: relative;}#sk-container-id-2 div.sk-text-repr-fallback {display: none;}</style><div id=\"sk-container-id-2\" class=\"sk-top-container\"><div class=\"sk-text-repr-fallback\"><pre>XGBRegressor(base_score=None, booster=None, callbacks=None,\n",
       "             colsample_bylevel=None, colsample_bynode=None,\n",
       "             colsample_bytree=None, early_stopping_rounds=None,\n",
       "             enable_categorical=False, eval_metric=None, feature_types=None,\n",
       "             gamma=None, gpu_id=None, grow_policy=None, importance_type=None,\n",
       "             interaction_constraints=None, learning_rate=0.04, max_bin=None,\n",
       "             max_cat_threshold=None, max_cat_to_onehot=None,\n",
       "             max_delta_step=None, max_depth=None, max_leaves=None,\n",
       "             min_child_weight=None, missing=nan, monotone_constraints=None,\n",
       "             n_estimators=100, n_jobs=None, num_parallel_tree=None,\n",
       "             predictor=None, random_state=None, ...)</pre><b>In a Jupyter environment, please rerun this cell to show the HTML representation or trust the notebook. <br />On GitHub, the HTML representation is unable to render, please try loading this page with nbviewer.org.</b></div><div class=\"sk-container\" hidden><div class=\"sk-item\"><div class=\"sk-estimator sk-toggleable\"><input class=\"sk-toggleable__control sk-hidden--visually\" id=\"sk-estimator-id-2\" type=\"checkbox\" checked><label for=\"sk-estimator-id-2\" class=\"sk-toggleable__label sk-toggleable__label-arrow\">XGBRegressor</label><div class=\"sk-toggleable__content\"><pre>XGBRegressor(base_score=None, booster=None, callbacks=None,\n",
       "             colsample_bylevel=None, colsample_bynode=None,\n",
       "             colsample_bytree=None, early_stopping_rounds=None,\n",
       "             enable_categorical=False, eval_metric=None, feature_types=None,\n",
       "             gamma=None, gpu_id=None, grow_policy=None, importance_type=None,\n",
       "             interaction_constraints=None, learning_rate=0.04, max_bin=None,\n",
       "             max_cat_threshold=None, max_cat_to_onehot=None,\n",
       "             max_delta_step=None, max_depth=None, max_leaves=None,\n",
       "             min_child_weight=None, missing=nan, monotone_constraints=None,\n",
       "             n_estimators=100, n_jobs=None, num_parallel_tree=None,\n",
       "             predictor=None, random_state=None, ...)</pre></div></div></div></div></div>"
      ],
      "text/plain": [
       "XGBRegressor(base_score=None, booster=None, callbacks=None,\n",
       "             colsample_bylevel=None, colsample_bynode=None,\n",
       "             colsample_bytree=None, early_stopping_rounds=None,\n",
       "             enable_categorical=False, eval_metric=None, feature_types=None,\n",
       "             gamma=None, gpu_id=None, grow_policy=None, importance_type=None,\n",
       "             interaction_constraints=None, learning_rate=0.04, max_bin=None,\n",
       "             max_cat_threshold=None, max_cat_to_onehot=None,\n",
       "             max_delta_step=None, max_depth=None, max_leaves=None,\n",
       "             min_child_weight=None, missing=nan, monotone_constraints=None,\n",
       "             n_estimators=100, n_jobs=None, num_parallel_tree=None,\n",
       "             predictor=None, random_state=None, ...)"
      ]
     },
     "execution_count": 110,
     "metadata": {},
     "output_type": "execute_result"
    }
   ],
   "source": [
    "model.fit(X_train,y_train)"
   ]
  },
  {
   "cell_type": "code",
   "execution_count": 111,
   "id": "f41eacc4",
   "metadata": {},
   "outputs": [
    {
     "name": "stdout",
     "output_type": "stream",
     "text": [
      "AUROC: 0.9906543487541107\n"
     ]
    }
   ],
   "source": [
    "print('AUROC:',roc_auc_score(y_test,model.predict(X_test)))"
   ]
  },
  {
   "cell_type": "markdown",
   "id": "323ae826",
   "metadata": {},
   "source": [
    "#### Voting classifier"
   ]
  },
  {
   "cell_type": "code",
   "execution_count": 112,
   "id": "b04c9b28",
   "metadata": {},
   "outputs": [],
   "source": [
    "from sklearn.ensemble import VotingClassifier\n",
    "model_1 = RandomForestClassifier(n_estimators = 160, criterion = 'entropy', random_state = 0)\n",
    "model_2 = xgb.XGBClassifier(learning_rate = 0.04, n_estimators=100, verbosity = 0)\n",
    "model = VotingClassifier(estimators=[('RF', model_1), ('XGB', model_2)],voting='soft')\n",
    "model.fit(X_train,y_train)\n",
    "preds = model.predict(X_test)\n",
    "auroc = roc_auc_score(y_test,model.predict_proba(X_test)[:,1])"
   ]
  },
  {
   "cell_type": "code",
   "execution_count": 113,
   "id": "5847e34a",
   "metadata": {},
   "outputs": [
    {
     "name": "stdout",
     "output_type": "stream",
     "text": [
      "AUROC: 0.991283321211738 ACCURACY_SCORE: 0.9657738095238095\n"
     ]
    }
   ],
   "source": [
    "acc = accuracy_score(y_test,model.predict(X_test))\n",
    "print('AUROC:',auroc,'ACCURACY_SCORE:',acc)"
   ]
  },
  {
   "cell_type": "code",
   "execution_count": 114,
   "id": "9483aaa1",
   "metadata": {
    "scrolled": true
   },
   "outputs": [
    {
     "name": "stdout",
     "output_type": "stream",
     "text": [
      "back_links 54.499604239279066\n",
      "text_lenght 24.1162235864099\n",
      "sections 6.589424379425118\n",
      "links 5.973336172652836\n",
      "categories 3.8580668406438283\n",
      "lang_links 3.179108435814944\n",
      "titles 1.7842363457743062\n"
     ]
    }
   ],
   "source": [
    "feature_importances = {}\n",
    "\n",
    "# loop over each base estimator in the ensemble\n",
    "for i, clf in enumerate(model.estimators_):\n",
    "    # get feature importances for the base estimator\n",
    "    importances = clf.feature_importances_\n",
    "    # get feature names for the base estimator (assuming you have stored them in a list or array)\n",
    "    feature_names = feature_name\n",
    "    # store feature importances for the base estimator in the dictionary\n",
    "    for feat, importance in zip(feature_names, importances):\n",
    "        if feat in feature_importances:\n",
    "            feature_importances[feat] += importance\n",
    "        else:\n",
    "            feature_importances[feat] = importance\n",
    "\n",
    "# aggregate feature importances across all base estimators\n",
    "total_importances = sum(feature_importances.values())\n",
    "\n",
    "# calculate feature importance scores as percentages\n",
    "feature_importance_scores = {feat: (importance / total_importances) * 100 for feat, importance in feature_importances.items()}\n",
    "\n",
    "# sort feature importance scores in descending order\n",
    "sorted_feature_importance_scores = {k: v for k, v in sorted(feature_importance_scores.items(), key=lambda item: item[1], reverse=True)}\n",
    "\n",
    "# print feature importance scores with their original feature names\n",
    "for feat, score in sorted_feature_importance_scores.items():\n",
    "    print(feat, score)"
   ]
  },
  {
   "cell_type": "markdown",
   "id": "db7dc5b8",
   "metadata": {},
   "source": [
    "**Using the Section column we are almost able to achieve the same accuracy achieved using all the features in svm**"
   ]
  },
  {
   "cell_type": "code",
   "execution_count": 115,
   "id": "f65a968c",
   "metadata": {},
   "outputs": [],
   "source": [
    "x = df['sections'].values\n",
    "y = df.iloc[:,-1].values"
   ]
  },
  {
   "cell_type": "code",
   "execution_count": 116,
   "id": "15e4f25a",
   "metadata": {},
   "outputs": [],
   "source": [
    "x = x.reshape(-1, 1)"
   ]
  },
  {
   "cell_type": "code",
   "execution_count": 117,
   "id": "5d21aa68",
   "metadata": {},
   "outputs": [],
   "source": [
    "X_train, X_test, y_train, y_test = train_test_split(x, y, test_size = 0.2, random_state = 0)"
   ]
  },
  {
   "cell_type": "code",
   "execution_count": 118,
   "id": "7a3d3386",
   "metadata": {},
   "outputs": [],
   "source": [
    "model = SVC(kernel = 'linear', random_state = 0,probability=True)"
   ]
  },
  {
   "cell_type": "code",
   "execution_count": 119,
   "id": "59d6275f",
   "metadata": {},
   "outputs": [],
   "source": [
    "model.fit(X_train,y_train)\n",
    "preds = model.predict(X_test)"
   ]
  },
  {
   "cell_type": "code",
   "execution_count": 120,
   "id": "0eae2878",
   "metadata": {},
   "outputs": [
    {
     "data": {
      "text/plain": [
       "0.8249007936507936"
      ]
     },
     "execution_count": 120,
     "metadata": {},
     "output_type": "execute_result"
    }
   ],
   "source": [
    "acc = accuracy_score(y_test,model.predict(X_test))\n",
    "acc"
   ]
  }
 ],
 "metadata": {
  "kernelspec": {
   "display_name": "Python 3 (ipykernel)",
   "language": "python",
   "name": "python3"
  },
  "language_info": {
   "codemirror_mode": {
    "name": "ipython",
    "version": 3
   },
   "file_extension": ".py",
   "mimetype": "text/x-python",
   "name": "python",
   "nbconvert_exporter": "python",
   "pygments_lexer": "ipython3",
   "version": "3.11.2"
  }
 },
 "nbformat": 4,
 "nbformat_minor": 5
}
